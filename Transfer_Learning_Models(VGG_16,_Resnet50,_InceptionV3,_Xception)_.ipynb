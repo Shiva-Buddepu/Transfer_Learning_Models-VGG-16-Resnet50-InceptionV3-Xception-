{
  "nbformat": 4,
  "nbformat_minor": 0,
  "metadata": {
    "colab": {
      "provenance": [],
      "gpuType": "T4"
    },
    "kernelspec": {
      "name": "python3",
      "display_name": "Python 3"
    },
    "language_info": {
      "name": "python"
    },
    "accelerator": "GPU"
  },
  "cells": [
    {
      "cell_type": "code",
      "execution_count": null,
      "metadata": {
        "id": "WgvLXS_TlPnY"
      },
      "outputs": [],
      "source": [
        "#change the runtime to T4"
      ]
    },
    {
      "cell_type": "code",
      "source": [
        "!pip install -q kaggle"
      ],
      "metadata": {
        "id": "wWRn7Uhapb05"
      },
      "execution_count": null,
      "outputs": []
    },
    {
      "cell_type": "code",
      "source": [
        "!mkdir ~/.kaggle"
      ],
      "metadata": {
        "colab": {
          "base_uri": "https://localhost:8080/"
        },
        "id": "mps5zfsUmLyZ",
        "outputId": "9952f833-d0fa-49f5-a19a-318a8c0f3754"
      },
      "execution_count": null,
      "outputs": [
        {
          "output_type": "stream",
          "name": "stdout",
          "text": [
            "mkdir: cannot create directory ‘/root/.kaggle’: File exists\n"
          ]
        }
      ]
    },
    {
      "cell_type": "code",
      "source": [
        "!cp kaggle.json ~/.kaggle"
      ],
      "metadata": {
        "id": "AhR44sU5mZx2"
      },
      "execution_count": null,
      "outputs": []
    },
    {
      "cell_type": "code",
      "source": [
        "!kaggle datasets download -d saumyamohandas/animal-dataset"
      ],
      "metadata": {
        "colab": {
          "base_uri": "https://localhost:8080/"
        },
        "id": "riseQjizm2TH",
        "outputId": "b040380d-53db-4d19-9cf6-329aef869c1f"
      },
      "execution_count": null,
      "outputs": [
        {
          "output_type": "stream",
          "name": "stdout",
          "text": [
            "Warning: Your Kaggle API key is readable by other users on this system! To fix this, you can run 'chmod 600 /root/.kaggle/kaggle.json'\n",
            "animal-dataset.zip: Skipping, found more recently modified local copy (use --force to force download)\n"
          ]
        }
      ]
    },
    {
      "cell_type": "code",
      "source": [
        "!unzip /content/animal-dataset.zip"
      ],
      "metadata": {
        "colab": {
          "base_uri": "https://localhost:8080/"
        },
        "id": "1hl_Wf7BsCKp",
        "outputId": "d1b759bc-3eb9-4805-a70c-eb716e435dac"
      },
      "execution_count": null,
      "outputs": [
        {
          "output_type": "stream",
          "name": "stdout",
          "text": [
            "Archive:  /content/animal-dataset.zip\n",
            "replace dataset/Testing/bears/k4 (100).jpeg? [y]es, [n]o, [A]ll, [N]one, [r]ename: "
          ]
        }
      ]
    },
    {
      "cell_type": "code",
      "source": [
        "from tensorflow.keras.preprocessing.image import ImageDataGenerator"
      ],
      "metadata": {
        "id": "TRxMJBFFnSlu"
      },
      "execution_count": null,
      "outputs": []
    },
    {
      "cell_type": "code",
      "source": [
        "trainpath='/content/dataset/Training'\n",
        "testpath='/content/dataset/Testing'"
      ],
      "metadata": {
        "id": "F4u8Q0guny6M"
      },
      "execution_count": null,
      "outputs": []
    },
    {
      "cell_type": "code",
      "source": [
        "train_datagen=ImageDataGenerator(rescale=1./255,zoom_range=0.2,shear_range=0.2)\n",
        "test_datagen=ImageDataGenerator(rescale=1./255)"
      ],
      "metadata": {
        "id": "sUgjENc2n-nY"
      },
      "execution_count": null,
      "outputs": []
    },
    {
      "cell_type": "code",
      "source": [
        "train=train_datagen.flow_from_directory(trainpath,target_size=(224,224),batch_size=16)\n",
        "test=test_datagen.flow_from_directory(testpath,target_size=(224,224),batch_size=16)"
      ],
      "metadata": {
        "colab": {
          "base_uri": "https://localhost:8080/"
        },
        "id": "Nt1k3WGkoc41",
        "outputId": "4d2c56a4-bdba-4914-a0e4-0368d0e67366"
      },
      "execution_count": null,
      "outputs": [
        {
          "output_type": "stream",
          "name": "stdout",
          "text": [
            "Found 1238 images belonging to 4 classes.\n",
            "Found 326 images belonging to 4 classes.\n"
          ]
        }
      ]
    },
    {
      "cell_type": "markdown",
      "source": [
        "#VGG 16"
      ],
      "metadata": {
        "id": "VPw7upYdppcz"
      }
    },
    {
      "cell_type": "code",
      "source": [
        "from tensorflow.keras.applications.vgg16 import VGG16\n",
        "from tensorflow.keras.layers import Dense, Flatten\n",
        "from tensorflow.keras.models import Model"
      ],
      "metadata": {
        "id": "2IivCngfpnzK"
      },
      "execution_count": null,
      "outputs": []
    },
    {
      "cell_type": "code",
      "source": [
        "vgg = VGG16(include_top = False,input_shape = (224,224,3))"
      ],
      "metadata": {
        "id": "PgC7ysb1tRnQ"
      },
      "execution_count": null,
      "outputs": []
    },
    {
      "cell_type": "code",
      "source": [
        "for layer in vgg.layers:\n",
        "  print(layer)"
      ],
      "metadata": {
        "colab": {
          "base_uri": "https://localhost:8080/"
        },
        "id": "0BR5o23KtSZR",
        "outputId": "b96f1a6f-1ea5-4201-d1b2-4491e0a83383"
      },
      "execution_count": null,
      "outputs": [
        {
          "output_type": "stream",
          "name": "stdout",
          "text": [
            "<keras.src.engine.input_layer.InputLayer object at 0x79451f9322c0>\n",
            "<keras.src.layers.convolutional.conv2d.Conv2D object at 0x79451f931de0>\n",
            "<keras.src.layers.convolutional.conv2d.Conv2D object at 0x794535341240>\n",
            "<keras.src.layers.pooling.max_pooling2d.MaxPooling2D object at 0x79451f931ae0>\n",
            "<keras.src.layers.convolutional.conv2d.Conv2D object at 0x79451f930fa0>\n",
            "<keras.src.layers.convolutional.conv2d.Conv2D object at 0x79451f933100>\n",
            "<keras.src.layers.pooling.max_pooling2d.MaxPooling2D object at 0x794535931810>\n",
            "<keras.src.layers.convolutional.conv2d.Conv2D object at 0x79453535b250>\n",
            "<keras.src.layers.convolutional.conv2d.Conv2D object at 0x79451fa0c970>\n",
            "<keras.src.layers.convolutional.conv2d.Conv2D object at 0x79451fa0d870>\n",
            "<keras.src.layers.pooling.max_pooling2d.MaxPooling2D object at 0x79451fa0f040>\n",
            "<keras.src.layers.convolutional.conv2d.Conv2D object at 0x79451fa0cee0>\n",
            "<keras.src.layers.convolutional.conv2d.Conv2D object at 0x79451fa0f8b0>\n",
            "<keras.src.layers.convolutional.conv2d.Conv2D object at 0x79451fa0dae0>\n",
            "<keras.src.layers.pooling.max_pooling2d.MaxPooling2D object at 0x79451f9301f0>\n",
            "<keras.src.layers.convolutional.conv2d.Conv2D object at 0x7945353412d0>\n",
            "<keras.src.layers.convolutional.conv2d.Conv2D object at 0x79451fa0cca0>\n",
            "<keras.src.layers.convolutional.conv2d.Conv2D object at 0x794519b08340>\n",
            "<keras.src.layers.pooling.max_pooling2d.MaxPooling2D object at 0x794519b0a5f0>\n"
          ]
        }
      ]
    },
    {
      "cell_type": "code",
      "source": [
        "for layer in vgg.layers:\n",
        "  layer.trainable = False"
      ],
      "metadata": {
        "id": "JrDKE7MdtWPP"
      },
      "execution_count": null,
      "outputs": []
    },
    {
      "cell_type": "code",
      "source": [
        "x= Flatten()(vgg.output)"
      ],
      "metadata": {
        "id": "mlKuSFVGtZFa"
      },
      "execution_count": null,
      "outputs": []
    },
    {
      "cell_type": "code",
      "source": [
        "output = Dense(4, activation ='softmax')(x)"
      ],
      "metadata": {
        "id": "NEn5Ptm9tbEA"
      },
      "execution_count": null,
      "outputs": []
    },
    {
      "cell_type": "code",
      "source": [
        "vgg16 = Model(vgg.input,output)"
      ],
      "metadata": {
        "id": "8SXZSXFXtdSR"
      },
      "execution_count": null,
      "outputs": []
    },
    {
      "cell_type": "code",
      "source": [
        "vgg16.summary()"
      ],
      "metadata": {
        "colab": {
          "base_uri": "https://localhost:8080/"
        },
        "id": "hKjTLvqqthFT",
        "outputId": "0ba04bb4-8f9b-4d7a-b883-2ba8868cee59"
      },
      "execution_count": null,
      "outputs": [
        {
          "output_type": "stream",
          "name": "stdout",
          "text": [
            "Model: \"model_1\"\n",
            "_________________________________________________________________\n",
            " Layer (type)                Output Shape              Param #   \n",
            "=================================================================\n",
            " input_2 (InputLayer)        [(None, 224, 224, 3)]     0         \n",
            "                                                                 \n",
            " block1_conv1 (Conv2D)       (None, 224, 224, 64)      1792      \n",
            "                                                                 \n",
            " block1_conv2 (Conv2D)       (None, 224, 224, 64)      36928     \n",
            "                                                                 \n",
            " block1_pool (MaxPooling2D)  (None, 112, 112, 64)      0         \n",
            "                                                                 \n",
            " block2_conv1 (Conv2D)       (None, 112, 112, 128)     73856     \n",
            "                                                                 \n",
            " block2_conv2 (Conv2D)       (None, 112, 112, 128)     147584    \n",
            "                                                                 \n",
            " block2_pool (MaxPooling2D)  (None, 56, 56, 128)       0         \n",
            "                                                                 \n",
            " block3_conv1 (Conv2D)       (None, 56, 56, 256)       295168    \n",
            "                                                                 \n",
            " block3_conv2 (Conv2D)       (None, 56, 56, 256)       590080    \n",
            "                                                                 \n",
            " block3_conv3 (Conv2D)       (None, 56, 56, 256)       590080    \n",
            "                                                                 \n",
            " block3_pool (MaxPooling2D)  (None, 28, 28, 256)       0         \n",
            "                                                                 \n",
            " block4_conv1 (Conv2D)       (None, 28, 28, 512)       1180160   \n",
            "                                                                 \n",
            " block4_conv2 (Conv2D)       (None, 28, 28, 512)       2359808   \n",
            "                                                                 \n",
            " block4_conv3 (Conv2D)       (None, 28, 28, 512)       2359808   \n",
            "                                                                 \n",
            " block4_pool (MaxPooling2D)  (None, 14, 14, 512)       0         \n",
            "                                                                 \n",
            " block5_conv1 (Conv2D)       (None, 14, 14, 512)       2359808   \n",
            "                                                                 \n",
            " block5_conv2 (Conv2D)       (None, 14, 14, 512)       2359808   \n",
            "                                                                 \n",
            " block5_conv3 (Conv2D)       (None, 14, 14, 512)       2359808   \n",
            "                                                                 \n",
            " block5_pool (MaxPooling2D)  (None, 7, 7, 512)         0         \n",
            "                                                                 \n",
            " flatten_1 (Flatten)         (None, 25088)             0         \n",
            "                                                                 \n",
            " dense_1 (Dense)             (None, 4)                 100356    \n",
            "                                                                 \n",
            "=================================================================\n",
            "Total params: 14815044 (56.51 MB)\n",
            "Trainable params: 100356 (392.02 KB)\n",
            "Non-trainable params: 14714688 (56.13 MB)\n",
            "_________________________________________________________________\n"
          ]
        }
      ]
    },
    {
      "cell_type": "code",
      "source": [
        "vgg16.compile(loss = 'categorical_crossentropy',optimizer = 'adam',metrics =['accuracy'])"
      ],
      "metadata": {
        "id": "twKj6RMvti9y"
      },
      "execution_count": null,
      "outputs": []
    },
    {
      "cell_type": "code",
      "source": [
        "vgg16.fit(train,validation_data=test,epochs=2,steps_per_epoch=len(train),validation_steps =len(test))"
      ],
      "metadata": {
        "colab": {
          "base_uri": "https://localhost:8080/"
        },
        "id": "7FEMQ9w-tobj",
        "outputId": "43114870-220f-444b-d9c2-2daa5f0a00b6"
      },
      "execution_count": null,
      "outputs": [
        {
          "output_type": "stream",
          "name": "stdout",
          "text": [
            "Epoch 1/2\n",
            "78/78 [==============================] - 31s 259ms/step - loss: 0.6066 - accuracy: 0.7835 - val_loss: 0.0559 - val_accuracy: 0.9939\n",
            "Epoch 2/2\n",
            "78/78 [==============================] - 20s 256ms/step - loss: 0.1031 - accuracy: 0.9677 - val_loss: 0.0842 - val_accuracy: 0.9693\n"
          ]
        },
        {
          "output_type": "execute_result",
          "data": {
            "text/plain": [
              "<keras.src.callbacks.History at 0x794519b1f790>"
            ]
          },
          "metadata": {},
          "execution_count": 86
        }
      ]
    },
    {
      "cell_type": "markdown",
      "source": [
        "#Resnet50\n"
      ],
      "metadata": {
        "id": "ihQwXgG8vPtR"
      }
    },
    {
      "cell_type": "code",
      "source": [
        "from tensorflow.keras.applications.resnet50 import ResNet50\n",
        "from tensorflow.keras.layers import Dense, Flatten\n",
        "from tensorflow.keras.models import Model"
      ],
      "metadata": {
        "id": "O8VZ6efMuN9S"
      },
      "execution_count": null,
      "outputs": []
    },
    {
      "cell_type": "code",
      "source": [
        "resnet50 = ResNet50(include_top = False,input_shape = (224,224,3))"
      ],
      "metadata": {
        "colab": {
          "base_uri": "https://localhost:8080/"
        },
        "id": "R_Ez4gh9vczP",
        "outputId": "6d71b3ed-d40c-4b26-96f1-c2be51b68742"
      },
      "execution_count": null,
      "outputs": [
        {
          "output_type": "stream",
          "name": "stdout",
          "text": [
            "Downloading data from https://storage.googleapis.com/tensorflow/keras-applications/resnet/resnet50_weights_tf_dim_ordering_tf_kernels_notop.h5\n",
            "94765736/94765736 [==============================] - 5s 0us/step\n"
          ]
        }
      ]
    },
    {
      "cell_type": "code",
      "source": [
        "for layer in resnet50.layers:\n",
        "  print(layer)"
      ],
      "metadata": {
        "colab": {
          "base_uri": "https://localhost:8080/"
        },
        "id": "QqtjDqSiwBD6",
        "outputId": "ceb51efe-720c-4da5-f74b-bcb1e99156ab"
      },
      "execution_count": null,
      "outputs": [
        {
          "output_type": "stream",
          "name": "stdout",
          "text": [
            "<keras.src.engine.input_layer.InputLayer object at 0x794515508610>\n",
            "<keras.src.layers.reshaping.zero_padding2d.ZeroPadding2D object at 0x794515509600>\n",
            "<keras.src.layers.convolutional.conv2d.Conv2D object at 0x794515509ed0>\n",
            "<keras.src.layers.normalization.batch_normalization.BatchNormalization object at 0x794515508a30>\n",
            "<keras.src.layers.core.activation.Activation object at 0x79451550b7f0>\n",
            "<keras.src.layers.reshaping.zero_padding2d.ZeroPadding2D object at 0x79451550b220>\n",
            "<keras.src.layers.pooling.max_pooling2d.MaxPooling2D object at 0x794515509bd0>\n",
            "<keras.src.layers.convolutional.conv2d.Conv2D object at 0x79451568ebf0>\n",
            "<keras.src.layers.normalization.batch_normalization.BatchNormalization object at 0x794519b1dc30>\n",
            "<keras.src.layers.core.activation.Activation object at 0x794515550340>\n",
            "<keras.src.layers.convolutional.conv2d.Conv2D object at 0x7945155523e0>\n",
            "<keras.src.layers.normalization.batch_normalization.BatchNormalization object at 0x794515552890>\n",
            "<keras.src.layers.core.activation.Activation object at 0x794515553820>\n",
            "<keras.src.layers.convolutional.conv2d.Conv2D object at 0x794519b0a830>\n",
            "<keras.src.layers.convolutional.conv2d.Conv2D object at 0x794515552830>\n",
            "<keras.src.layers.normalization.batch_normalization.BatchNormalization object at 0x79451550a800>\n",
            "<keras.src.layers.normalization.batch_normalization.BatchNormalization object at 0x7945155753f0>\n",
            "<keras.src.layers.merging.add.Add object at 0x794515553190>\n",
            "<keras.src.layers.core.activation.Activation object at 0x7945155766b0>\n",
            "<keras.src.layers.convolutional.conv2d.Conv2D object at 0x794515574250>\n",
            "<keras.src.layers.normalization.batch_normalization.BatchNormalization object at 0x794515577610>\n",
            "<keras.src.layers.core.activation.Activation object at 0x7945155768f0>\n",
            "<keras.src.layers.convolutional.conv2d.Conv2D object at 0x794515590a00>\n",
            "<keras.src.layers.normalization.batch_normalization.BatchNormalization object at 0x794515590b20>\n",
            "<keras.src.layers.core.activation.Activation object at 0x7945155915d0>\n",
            "<keras.src.layers.convolutional.conv2d.Conv2D object at 0x7945155901c0>\n",
            "<keras.src.layers.normalization.batch_normalization.BatchNormalization object at 0x794515592c20>\n",
            "<keras.src.layers.merging.add.Add object at 0x794515593d90>\n",
            "<keras.src.layers.core.activation.Activation object at 0x794515590040>\n",
            "<keras.src.layers.convolutional.conv2d.Conv2D object at 0x7945155507c0>\n",
            "<keras.src.layers.normalization.batch_normalization.BatchNormalization object at 0x79451550be80>\n",
            "<keras.src.layers.core.activation.Activation object at 0x794515550670>\n",
            "<keras.src.layers.convolutional.conv2d.Conv2D object at 0x7945153b0ee0>\n",
            "<keras.src.layers.normalization.batch_normalization.BatchNormalization object at 0x7945153b10f0>\n",
            "<keras.src.layers.core.activation.Activation object at 0x7945153b2860>\n",
            "<keras.src.layers.convolutional.conv2d.Conv2D object at 0x7945153b2d40>\n",
            "<keras.src.layers.normalization.batch_normalization.BatchNormalization object at 0x7945153b3af0>\n",
            "<keras.src.layers.merging.add.Add object at 0x79451568f130>\n",
            "<keras.src.layers.core.activation.Activation object at 0x7945153b4430>\n",
            "<keras.src.layers.convolutional.conv2d.Conv2D object at 0x7945153b6110>\n",
            "<keras.src.layers.normalization.batch_normalization.BatchNormalization object at 0x7945153b7610>\n",
            "<keras.src.layers.core.activation.Activation object at 0x7945153b4a30>\n",
            "<keras.src.layers.convolutional.conv2d.Conv2D object at 0x7945153b6d40>\n",
            "<keras.src.layers.normalization.batch_normalization.BatchNormalization object at 0x7945153b53f0>\n",
            "<keras.src.layers.core.activation.Activation object at 0x7945153b7d30>\n",
            "<keras.src.layers.convolutional.conv2d.Conv2D object at 0x7945153b37f0>\n",
            "<keras.src.layers.convolutional.conv2d.Conv2D object at 0x7945153d5c00>\n",
            "<keras.src.layers.normalization.batch_normalization.BatchNormalization object at 0x7945153b49a0>\n",
            "<keras.src.layers.normalization.batch_normalization.BatchNormalization object at 0x7945153d4b20>\n",
            "<keras.src.layers.merging.add.Add object at 0x7945153b7940>\n",
            "<keras.src.layers.core.activation.Activation object at 0x7945153d7190>\n",
            "<keras.src.layers.convolutional.conv2d.Conv2D object at 0x7945153d67a0>\n",
            "<keras.src.layers.normalization.batch_normalization.BatchNormalization object at 0x7945153d7bb0>\n",
            "<keras.src.layers.core.activation.Activation object at 0x7945153d7e20>\n",
            "<keras.src.layers.convolutional.conv2d.Conv2D object at 0x7945153d7490>\n",
            "<keras.src.layers.normalization.batch_normalization.BatchNormalization object at 0x7945153d6950>\n",
            "<keras.src.layers.core.activation.Activation object at 0x7945153d64a0>\n",
            "<keras.src.layers.convolutional.conv2d.Conv2D object at 0x794515405cf0>\n",
            "<keras.src.layers.normalization.batch_normalization.BatchNormalization object at 0x7945154c4370>\n",
            "<keras.src.layers.merging.add.Add object at 0x7945153b3ac0>\n",
            "<keras.src.layers.core.activation.Activation object at 0x794515406b00>\n",
            "<keras.src.layers.convolutional.conv2d.Conv2D object at 0x7945154069e0>\n",
            "<keras.src.layers.normalization.batch_normalization.BatchNormalization object at 0x794515405510>\n",
            "<keras.src.layers.core.activation.Activation object at 0x7945153b65f0>\n",
            "<keras.src.layers.convolutional.conv2d.Conv2D object at 0x794515509840>\n",
            "<keras.src.layers.normalization.batch_normalization.BatchNormalization object at 0x7945153d55d0>\n",
            "<keras.src.layers.core.activation.Activation object at 0x79451550a0b0>\n",
            "<keras.src.layers.convolutional.conv2d.Conv2D object at 0x794515407220>\n",
            "<keras.src.layers.normalization.batch_normalization.BatchNormalization object at 0x7945153b4460>\n",
            "<keras.src.layers.merging.add.Add object at 0x7945153b0850>\n",
            "<keras.src.layers.core.activation.Activation object at 0x7945153b4670>\n",
            "<keras.src.layers.convolutional.conv2d.Conv2D object at 0x794515430d60>\n",
            "<keras.src.layers.normalization.batch_normalization.BatchNormalization object at 0x794515433520>\n",
            "<keras.src.layers.core.activation.Activation object at 0x794515433400>\n",
            "<keras.src.layers.convolutional.conv2d.Conv2D object at 0x794515432da0>\n",
            "<keras.src.layers.normalization.batch_normalization.BatchNormalization object at 0x7945154329b0>\n",
            "<keras.src.layers.core.activation.Activation object at 0x794515433a30>\n",
            "<keras.src.layers.convolutional.conv2d.Conv2D object at 0x794515440a90>\n",
            "<keras.src.layers.normalization.batch_normalization.BatchNormalization object at 0x794515442440>\n",
            "<keras.src.layers.merging.add.Add object at 0x7945154337c0>\n",
            "<keras.src.layers.core.activation.Activation object at 0x794515442ce0>\n",
            "<keras.src.layers.convolutional.conv2d.Conv2D object at 0x794515406f20>\n",
            "<keras.src.layers.normalization.batch_normalization.BatchNormalization object at 0x794515443c10>\n",
            "<keras.src.layers.core.activation.Activation object at 0x794515443430>\n",
            "<keras.src.layers.convolutional.conv2d.Conv2D object at 0x7945154693c0>\n",
            "<keras.src.layers.normalization.batch_normalization.BatchNormalization object at 0x79451546aa40>\n",
            "<keras.src.layers.core.activation.Activation object at 0x794515469540>\n",
            "<keras.src.layers.convolutional.conv2d.Conv2D object at 0x794515442da0>\n",
            "<keras.src.layers.convolutional.conv2d.Conv2D object at 0x79451546afb0>\n",
            "<keras.src.layers.normalization.batch_normalization.BatchNormalization object at 0x794515443730>\n",
            "<keras.src.layers.normalization.batch_normalization.BatchNormalization object at 0x79451546a860>\n",
            "<keras.src.layers.merging.add.Add object at 0x794515443940>\n",
            "<keras.src.layers.core.activation.Activation object at 0x79451546b760>\n",
            "<keras.src.layers.convolutional.conv2d.Conv2D object at 0x79451548d900>\n",
            "<keras.src.layers.normalization.batch_normalization.BatchNormalization object at 0x79451548e110>\n",
            "<keras.src.layers.core.activation.Activation object at 0x79451548db40>\n",
            "<keras.src.layers.convolutional.conv2d.Conv2D object at 0x79451548e650>\n",
            "<keras.src.layers.normalization.batch_normalization.BatchNormalization object at 0x79451548f5b0>\n",
            "<keras.src.layers.core.activation.Activation object at 0x79451548ff70>\n",
            "<keras.src.layers.convolutional.conv2d.Conv2D object at 0x79451548fb50>\n",
            "<keras.src.layers.normalization.batch_normalization.BatchNormalization object at 0x79451548d5a0>\n",
            "<keras.src.layers.merging.add.Add object at 0x79451546bee0>\n",
            "<keras.src.layers.core.activation.Activation object at 0x794515441000>\n",
            "<keras.src.layers.convolutional.conv2d.Conv2D object at 0x7945154412d0>\n",
            "<keras.src.layers.normalization.batch_normalization.BatchNormalization object at 0x7945153d5810>\n",
            "<keras.src.layers.core.activation.Activation object at 0x794515433c40>\n",
            "<keras.src.layers.convolutional.conv2d.Conv2D object at 0x794515442800>\n",
            "<keras.src.layers.normalization.batch_normalization.BatchNormalization object at 0x794515441390>\n",
            "<keras.src.layers.core.activation.Activation object at 0x7945152b4fd0>\n",
            "<keras.src.layers.convolutional.conv2d.Conv2D object at 0x7945152b5cf0>\n",
            "<keras.src.layers.normalization.batch_normalization.BatchNormalization object at 0x7945152b7100>\n",
            "<keras.src.layers.merging.add.Add object at 0x7945152b43a0>\n",
            "<keras.src.layers.core.activation.Activation object at 0x7945152b6020>\n",
            "<keras.src.layers.convolutional.conv2d.Conv2D object at 0x7945152b7400>\n",
            "<keras.src.layers.normalization.batch_normalization.BatchNormalization object at 0x7945152b5fc0>\n",
            "<keras.src.layers.core.activation.Activation object at 0x7945152b7910>\n",
            "<keras.src.layers.convolutional.conv2d.Conv2D object at 0x7945152c19c0>\n",
            "<keras.src.layers.normalization.batch_normalization.BatchNormalization object at 0x7945152c2590>\n",
            "<keras.src.layers.core.activation.Activation object at 0x7945152c0ee0>\n",
            "<keras.src.layers.convolutional.conv2d.Conv2D object at 0x7945152c1330>\n",
            "<keras.src.layers.normalization.batch_normalization.BatchNormalization object at 0x7945152c3ac0>\n",
            "<keras.src.layers.merging.add.Add object at 0x7945152b7eb0>\n",
            "<keras.src.layers.core.activation.Activation object at 0x7945152c3e20>\n",
            "<keras.src.layers.convolutional.conv2d.Conv2D object at 0x7945152c1de0>\n",
            "<keras.src.layers.normalization.batch_normalization.BatchNormalization object at 0x7945152c0580>\n",
            "<keras.src.layers.core.activation.Activation object at 0x7945152c3610>\n",
            "<keras.src.layers.convolutional.conv2d.Conv2D object at 0x7945152e1090>\n",
            "<keras.src.layers.normalization.batch_normalization.BatchNormalization object at 0x7945152e3040>\n",
            "<keras.src.layers.core.activation.Activation object at 0x7945152e2aa0>\n",
            "<keras.src.layers.convolutional.conv2d.Conv2D object at 0x7945152e33a0>\n",
            "<keras.src.layers.normalization.batch_normalization.BatchNormalization object at 0x7945152e0b20>\n",
            "<keras.src.layers.merging.add.Add object at 0x7945152e0d60>\n",
            "<keras.src.layers.core.activation.Activation object at 0x7945152e2f50>\n",
            "<keras.src.layers.convolutional.conv2d.Conv2D object at 0x794515304130>\n",
            "<keras.src.layers.normalization.batch_normalization.BatchNormalization object at 0x794515306380>\n",
            "<keras.src.layers.core.activation.Activation object at 0x7945152e36a0>\n",
            "<keras.src.layers.convolutional.conv2d.Conv2D object at 0x7945152e3430>\n",
            "<keras.src.layers.normalization.batch_normalization.BatchNormalization object at 0x7945152c0dc0>\n",
            "<keras.src.layers.core.activation.Activation object at 0x7945152e0d30>\n",
            "<keras.src.layers.convolutional.conv2d.Conv2D object at 0x7945152b6f80>\n",
            "<keras.src.layers.normalization.batch_normalization.BatchNormalization object at 0x7945152b6e90>\n",
            "<keras.src.layers.merging.add.Add object at 0x7945152b6e60>\n",
            "<keras.src.layers.core.activation.Activation object at 0x794515305c60>\n",
            "<keras.src.layers.convolutional.conv2d.Conv2D object at 0x794515307310>\n",
            "<keras.src.layers.normalization.batch_normalization.BatchNormalization object at 0x794515307910>\n",
            "<keras.src.layers.core.activation.Activation object at 0x794515307760>\n",
            "<keras.src.layers.convolutional.conv2d.Conv2D object at 0x79451531dae0>\n",
            "<keras.src.layers.normalization.batch_normalization.BatchNormalization object at 0x79451531f010>\n",
            "<keras.src.layers.core.activation.Activation object at 0x79451531ea10>\n",
            "<keras.src.layers.convolutional.conv2d.Conv2D object at 0x794515307340>\n",
            "<keras.src.layers.convolutional.conv2d.Conv2D object at 0x79451531f580>\n",
            "<keras.src.layers.normalization.batch_normalization.BatchNormalization object at 0x794515306620>\n",
            "<keras.src.layers.normalization.batch_normalization.BatchNormalization object at 0x79451531d4e0>\n",
            "<keras.src.layers.merging.add.Add object at 0x794515307f10>\n",
            "<keras.src.layers.core.activation.Activation object at 0x79451531fee0>\n",
            "<keras.src.layers.convolutional.conv2d.Conv2D object at 0x794515339f00>\n",
            "<keras.src.layers.normalization.batch_normalization.BatchNormalization object at 0x794515468ca0>\n",
            "<keras.src.layers.core.activation.Activation object at 0x794515338340>\n",
            "<keras.src.layers.convolutional.conv2d.Conv2D object at 0x79451533aa10>\n",
            "<keras.src.layers.normalization.batch_normalization.BatchNormalization object at 0x79451533beb0>\n",
            "<keras.src.layers.core.activation.Activation object at 0x79451533be80>\n",
            "<keras.src.layers.convolutional.conv2d.Conv2D object at 0x79451533b910>\n",
            "<keras.src.layers.normalization.batch_normalization.BatchNormalization object at 0x794515339990>\n",
            "<keras.src.layers.merging.add.Add object at 0x79451533af50>\n",
            "<keras.src.layers.core.activation.Activation object at 0x79451536a380>\n",
            "<keras.src.layers.convolutional.conv2d.Conv2D object at 0x7945153680d0>\n",
            "<keras.src.layers.normalization.batch_normalization.BatchNormalization object at 0x794515368040>\n",
            "<keras.src.layers.core.activation.Activation object at 0x79451536b0a0>\n",
            "<keras.src.layers.convolutional.conv2d.Conv2D object at 0x794515368460>\n",
            "<keras.src.layers.normalization.batch_normalization.BatchNormalization object at 0x79451536a590>\n",
            "<keras.src.layers.core.activation.Activation object at 0x794515368af0>\n",
            "<keras.src.layers.convolutional.conv2d.Conv2D object at 0x79451536abf0>\n",
            "<keras.src.layers.normalization.batch_normalization.BatchNormalization object at 0x79451536a6b0>\n",
            "<keras.src.layers.merging.add.Add object at 0x794515305f00>\n",
            "<keras.src.layers.core.activation.Activation object at 0x79451531f9d0>\n"
          ]
        }
      ]
    },
    {
      "cell_type": "code",
      "source": [
        "len(resnet50.layers)"
      ],
      "metadata": {
        "colab": {
          "base_uri": "https://localhost:8080/"
        },
        "id": "ApP4cfZqwEOE",
        "outputId": "3e465b04-efb2-4225-e950-c1c680beb8e8"
      },
      "execution_count": null,
      "outputs": [
        {
          "output_type": "execute_result",
          "data": {
            "text/plain": [
              "175"
            ]
          },
          "metadata": {},
          "execution_count": 94
        }
      ]
    },
    {
      "cell_type": "code",
      "source": [
        "for layer in resnet50.layers:\n",
        "  layer.trainable = False"
      ],
      "metadata": {
        "id": "5rLCLTyqwujk"
      },
      "execution_count": null,
      "outputs": []
    },
    {
      "cell_type": "code",
      "source": [
        "x = Flatten()(resnet50.output)"
      ],
      "metadata": {
        "id": "B4h_yJgUxdGy"
      },
      "execution_count": null,
      "outputs": []
    },
    {
      "cell_type": "code",
      "source": [
        "output = Dense(4,activation = 'softmax')(x)"
      ],
      "metadata": {
        "id": "zhqCRE0Nxfof"
      },
      "execution_count": null,
      "outputs": []
    },
    {
      "cell_type": "code",
      "source": [
        "resnet50 =Model(resnet50.input,output)"
      ],
      "metadata": {
        "id": "uZZC3JqFxll4"
      },
      "execution_count": null,
      "outputs": []
    },
    {
      "cell_type": "code",
      "source": [
        "resnet50.summary()"
      ],
      "metadata": {
        "colab": {
          "base_uri": "https://localhost:8080/"
        },
        "id": "M1_fIjqWyU7Q",
        "outputId": "07725fea-f9af-4cf7-c823-7c258d297233"
      },
      "execution_count": null,
      "outputs": [
        {
          "output_type": "stream",
          "name": "stdout",
          "text": [
            "Model: \"model_2\"\n",
            "__________________________________________________________________________________________________\n",
            " Layer (type)                Output Shape                 Param #   Connected to                  \n",
            "==================================================================================================\n",
            " input_3 (InputLayer)        [(None, 224, 224, 3)]        0         []                            \n",
            "                                                                                                  \n",
            " conv1_pad (ZeroPadding2D)   (None, 230, 230, 3)          0         ['input_3[0][0]']             \n",
            "                                                                                                  \n",
            " conv1_conv (Conv2D)         (None, 112, 112, 64)         9472      ['conv1_pad[0][0]']           \n",
            "                                                                                                  \n",
            " conv1_bn (BatchNormalizati  (None, 112, 112, 64)         256       ['conv1_conv[0][0]']          \n",
            " on)                                                                                              \n",
            "                                                                                                  \n",
            " conv1_relu (Activation)     (None, 112, 112, 64)         0         ['conv1_bn[0][0]']            \n",
            "                                                                                                  \n",
            " pool1_pad (ZeroPadding2D)   (None, 114, 114, 64)         0         ['conv1_relu[0][0]']          \n",
            "                                                                                                  \n",
            " pool1_pool (MaxPooling2D)   (None, 56, 56, 64)           0         ['pool1_pad[0][0]']           \n",
            "                                                                                                  \n",
            " conv2_block1_1_conv (Conv2  (None, 56, 56, 64)           4160      ['pool1_pool[0][0]']          \n",
            " D)                                                                                               \n",
            "                                                                                                  \n",
            " conv2_block1_1_bn (BatchNo  (None, 56, 56, 64)           256       ['conv2_block1_1_conv[0][0]'] \n",
            " rmalization)                                                                                     \n",
            "                                                                                                  \n",
            " conv2_block1_1_relu (Activ  (None, 56, 56, 64)           0         ['conv2_block1_1_bn[0][0]']   \n",
            " ation)                                                                                           \n",
            "                                                                                                  \n",
            " conv2_block1_2_conv (Conv2  (None, 56, 56, 64)           36928     ['conv2_block1_1_relu[0][0]'] \n",
            " D)                                                                                               \n",
            "                                                                                                  \n",
            " conv2_block1_2_bn (BatchNo  (None, 56, 56, 64)           256       ['conv2_block1_2_conv[0][0]'] \n",
            " rmalization)                                                                                     \n",
            "                                                                                                  \n",
            " conv2_block1_2_relu (Activ  (None, 56, 56, 64)           0         ['conv2_block1_2_bn[0][0]']   \n",
            " ation)                                                                                           \n",
            "                                                                                                  \n",
            " conv2_block1_0_conv (Conv2  (None, 56, 56, 256)          16640     ['pool1_pool[0][0]']          \n",
            " D)                                                                                               \n",
            "                                                                                                  \n",
            " conv2_block1_3_conv (Conv2  (None, 56, 56, 256)          16640     ['conv2_block1_2_relu[0][0]'] \n",
            " D)                                                                                               \n",
            "                                                                                                  \n",
            " conv2_block1_0_bn (BatchNo  (None, 56, 56, 256)          1024      ['conv2_block1_0_conv[0][0]'] \n",
            " rmalization)                                                                                     \n",
            "                                                                                                  \n",
            " conv2_block1_3_bn (BatchNo  (None, 56, 56, 256)          1024      ['conv2_block1_3_conv[0][0]'] \n",
            " rmalization)                                                                                     \n",
            "                                                                                                  \n",
            " conv2_block1_add (Add)      (None, 56, 56, 256)          0         ['conv2_block1_0_bn[0][0]',   \n",
            "                                                                     'conv2_block1_3_bn[0][0]']   \n",
            "                                                                                                  \n",
            " conv2_block1_out (Activati  (None, 56, 56, 256)          0         ['conv2_block1_add[0][0]']    \n",
            " on)                                                                                              \n",
            "                                                                                                  \n",
            " conv2_block2_1_conv (Conv2  (None, 56, 56, 64)           16448     ['conv2_block1_out[0][0]']    \n",
            " D)                                                                                               \n",
            "                                                                                                  \n",
            " conv2_block2_1_bn (BatchNo  (None, 56, 56, 64)           256       ['conv2_block2_1_conv[0][0]'] \n",
            " rmalization)                                                                                     \n",
            "                                                                                                  \n",
            " conv2_block2_1_relu (Activ  (None, 56, 56, 64)           0         ['conv2_block2_1_bn[0][0]']   \n",
            " ation)                                                                                           \n",
            "                                                                                                  \n",
            " conv2_block2_2_conv (Conv2  (None, 56, 56, 64)           36928     ['conv2_block2_1_relu[0][0]'] \n",
            " D)                                                                                               \n",
            "                                                                                                  \n",
            " conv2_block2_2_bn (BatchNo  (None, 56, 56, 64)           256       ['conv2_block2_2_conv[0][0]'] \n",
            " rmalization)                                                                                     \n",
            "                                                                                                  \n",
            " conv2_block2_2_relu (Activ  (None, 56, 56, 64)           0         ['conv2_block2_2_bn[0][0]']   \n",
            " ation)                                                                                           \n",
            "                                                                                                  \n",
            " conv2_block2_3_conv (Conv2  (None, 56, 56, 256)          16640     ['conv2_block2_2_relu[0][0]'] \n",
            " D)                                                                                               \n",
            "                                                                                                  \n",
            " conv2_block2_3_bn (BatchNo  (None, 56, 56, 256)          1024      ['conv2_block2_3_conv[0][0]'] \n",
            " rmalization)                                                                                     \n",
            "                                                                                                  \n",
            " conv2_block2_add (Add)      (None, 56, 56, 256)          0         ['conv2_block1_out[0][0]',    \n",
            "                                                                     'conv2_block2_3_bn[0][0]']   \n",
            "                                                                                                  \n",
            " conv2_block2_out (Activati  (None, 56, 56, 256)          0         ['conv2_block2_add[0][0]']    \n",
            " on)                                                                                              \n",
            "                                                                                                  \n",
            " conv2_block3_1_conv (Conv2  (None, 56, 56, 64)           16448     ['conv2_block2_out[0][0]']    \n",
            " D)                                                                                               \n",
            "                                                                                                  \n",
            " conv2_block3_1_bn (BatchNo  (None, 56, 56, 64)           256       ['conv2_block3_1_conv[0][0]'] \n",
            " rmalization)                                                                                     \n",
            "                                                                                                  \n",
            " conv2_block3_1_relu (Activ  (None, 56, 56, 64)           0         ['conv2_block3_1_bn[0][0]']   \n",
            " ation)                                                                                           \n",
            "                                                                                                  \n",
            " conv2_block3_2_conv (Conv2  (None, 56, 56, 64)           36928     ['conv2_block3_1_relu[0][0]'] \n",
            " D)                                                                                               \n",
            "                                                                                                  \n",
            " conv2_block3_2_bn (BatchNo  (None, 56, 56, 64)           256       ['conv2_block3_2_conv[0][0]'] \n",
            " rmalization)                                                                                     \n",
            "                                                                                                  \n",
            " conv2_block3_2_relu (Activ  (None, 56, 56, 64)           0         ['conv2_block3_2_bn[0][0]']   \n",
            " ation)                                                                                           \n",
            "                                                                                                  \n",
            " conv2_block3_3_conv (Conv2  (None, 56, 56, 256)          16640     ['conv2_block3_2_relu[0][0]'] \n",
            " D)                                                                                               \n",
            "                                                                                                  \n",
            " conv2_block3_3_bn (BatchNo  (None, 56, 56, 256)          1024      ['conv2_block3_3_conv[0][0]'] \n",
            " rmalization)                                                                                     \n",
            "                                                                                                  \n",
            " conv2_block3_add (Add)      (None, 56, 56, 256)          0         ['conv2_block2_out[0][0]',    \n",
            "                                                                     'conv2_block3_3_bn[0][0]']   \n",
            "                                                                                                  \n",
            " conv2_block3_out (Activati  (None, 56, 56, 256)          0         ['conv2_block3_add[0][0]']    \n",
            " on)                                                                                              \n",
            "                                                                                                  \n",
            " conv3_block1_1_conv (Conv2  (None, 28, 28, 128)          32896     ['conv2_block3_out[0][0]']    \n",
            " D)                                                                                               \n",
            "                                                                                                  \n",
            " conv3_block1_1_bn (BatchNo  (None, 28, 28, 128)          512       ['conv3_block1_1_conv[0][0]'] \n",
            " rmalization)                                                                                     \n",
            "                                                                                                  \n",
            " conv3_block1_1_relu (Activ  (None, 28, 28, 128)          0         ['conv3_block1_1_bn[0][0]']   \n",
            " ation)                                                                                           \n",
            "                                                                                                  \n",
            " conv3_block1_2_conv (Conv2  (None, 28, 28, 128)          147584    ['conv3_block1_1_relu[0][0]'] \n",
            " D)                                                                                               \n",
            "                                                                                                  \n",
            " conv3_block1_2_bn (BatchNo  (None, 28, 28, 128)          512       ['conv3_block1_2_conv[0][0]'] \n",
            " rmalization)                                                                                     \n",
            "                                                                                                  \n",
            " conv3_block1_2_relu (Activ  (None, 28, 28, 128)          0         ['conv3_block1_2_bn[0][0]']   \n",
            " ation)                                                                                           \n",
            "                                                                                                  \n",
            " conv3_block1_0_conv (Conv2  (None, 28, 28, 512)          131584    ['conv2_block3_out[0][0]']    \n",
            " D)                                                                                               \n",
            "                                                                                                  \n",
            " conv3_block1_3_conv (Conv2  (None, 28, 28, 512)          66048     ['conv3_block1_2_relu[0][0]'] \n",
            " D)                                                                                               \n",
            "                                                                                                  \n",
            " conv3_block1_0_bn (BatchNo  (None, 28, 28, 512)          2048      ['conv3_block1_0_conv[0][0]'] \n",
            " rmalization)                                                                                     \n",
            "                                                                                                  \n",
            " conv3_block1_3_bn (BatchNo  (None, 28, 28, 512)          2048      ['conv3_block1_3_conv[0][0]'] \n",
            " rmalization)                                                                                     \n",
            "                                                                                                  \n",
            " conv3_block1_add (Add)      (None, 28, 28, 512)          0         ['conv3_block1_0_bn[0][0]',   \n",
            "                                                                     'conv3_block1_3_bn[0][0]']   \n",
            "                                                                                                  \n",
            " conv3_block1_out (Activati  (None, 28, 28, 512)          0         ['conv3_block1_add[0][0]']    \n",
            " on)                                                                                              \n",
            "                                                                                                  \n",
            " conv3_block2_1_conv (Conv2  (None, 28, 28, 128)          65664     ['conv3_block1_out[0][0]']    \n",
            " D)                                                                                               \n",
            "                                                                                                  \n",
            " conv3_block2_1_bn (BatchNo  (None, 28, 28, 128)          512       ['conv3_block2_1_conv[0][0]'] \n",
            " rmalization)                                                                                     \n",
            "                                                                                                  \n",
            " conv3_block2_1_relu (Activ  (None, 28, 28, 128)          0         ['conv3_block2_1_bn[0][0]']   \n",
            " ation)                                                                                           \n",
            "                                                                                                  \n",
            " conv3_block2_2_conv (Conv2  (None, 28, 28, 128)          147584    ['conv3_block2_1_relu[0][0]'] \n",
            " D)                                                                                               \n",
            "                                                                                                  \n",
            " conv3_block2_2_bn (BatchNo  (None, 28, 28, 128)          512       ['conv3_block2_2_conv[0][0]'] \n",
            " rmalization)                                                                                     \n",
            "                                                                                                  \n",
            " conv3_block2_2_relu (Activ  (None, 28, 28, 128)          0         ['conv3_block2_2_bn[0][0]']   \n",
            " ation)                                                                                           \n",
            "                                                                                                  \n",
            " conv3_block2_3_conv (Conv2  (None, 28, 28, 512)          66048     ['conv3_block2_2_relu[0][0]'] \n",
            " D)                                                                                               \n",
            "                                                                                                  \n",
            " conv3_block2_3_bn (BatchNo  (None, 28, 28, 512)          2048      ['conv3_block2_3_conv[0][0]'] \n",
            " rmalization)                                                                                     \n",
            "                                                                                                  \n",
            " conv3_block2_add (Add)      (None, 28, 28, 512)          0         ['conv3_block1_out[0][0]',    \n",
            "                                                                     'conv3_block2_3_bn[0][0]']   \n",
            "                                                                                                  \n",
            " conv3_block2_out (Activati  (None, 28, 28, 512)          0         ['conv3_block2_add[0][0]']    \n",
            " on)                                                                                              \n",
            "                                                                                                  \n",
            " conv3_block3_1_conv (Conv2  (None, 28, 28, 128)          65664     ['conv3_block2_out[0][0]']    \n",
            " D)                                                                                               \n",
            "                                                                                                  \n",
            " conv3_block3_1_bn (BatchNo  (None, 28, 28, 128)          512       ['conv3_block3_1_conv[0][0]'] \n",
            " rmalization)                                                                                     \n",
            "                                                                                                  \n",
            " conv3_block3_1_relu (Activ  (None, 28, 28, 128)          0         ['conv3_block3_1_bn[0][0]']   \n",
            " ation)                                                                                           \n",
            "                                                                                                  \n",
            " conv3_block3_2_conv (Conv2  (None, 28, 28, 128)          147584    ['conv3_block3_1_relu[0][0]'] \n",
            " D)                                                                                               \n",
            "                                                                                                  \n",
            " conv3_block3_2_bn (BatchNo  (None, 28, 28, 128)          512       ['conv3_block3_2_conv[0][0]'] \n",
            " rmalization)                                                                                     \n",
            "                                                                                                  \n",
            " conv3_block3_2_relu (Activ  (None, 28, 28, 128)          0         ['conv3_block3_2_bn[0][0]']   \n",
            " ation)                                                                                           \n",
            "                                                                                                  \n",
            " conv3_block3_3_conv (Conv2  (None, 28, 28, 512)          66048     ['conv3_block3_2_relu[0][0]'] \n",
            " D)                                                                                               \n",
            "                                                                                                  \n",
            " conv3_block3_3_bn (BatchNo  (None, 28, 28, 512)          2048      ['conv3_block3_3_conv[0][0]'] \n",
            " rmalization)                                                                                     \n",
            "                                                                                                  \n",
            " conv3_block3_add (Add)      (None, 28, 28, 512)          0         ['conv3_block2_out[0][0]',    \n",
            "                                                                     'conv3_block3_3_bn[0][0]']   \n",
            "                                                                                                  \n",
            " conv3_block3_out (Activati  (None, 28, 28, 512)          0         ['conv3_block3_add[0][0]']    \n",
            " on)                                                                                              \n",
            "                                                                                                  \n",
            " conv3_block4_1_conv (Conv2  (None, 28, 28, 128)          65664     ['conv3_block3_out[0][0]']    \n",
            " D)                                                                                               \n",
            "                                                                                                  \n",
            " conv3_block4_1_bn (BatchNo  (None, 28, 28, 128)          512       ['conv3_block4_1_conv[0][0]'] \n",
            " rmalization)                                                                                     \n",
            "                                                                                                  \n",
            " conv3_block4_1_relu (Activ  (None, 28, 28, 128)          0         ['conv3_block4_1_bn[0][0]']   \n",
            " ation)                                                                                           \n",
            "                                                                                                  \n",
            " conv3_block4_2_conv (Conv2  (None, 28, 28, 128)          147584    ['conv3_block4_1_relu[0][0]'] \n",
            " D)                                                                                               \n",
            "                                                                                                  \n",
            " conv3_block4_2_bn (BatchNo  (None, 28, 28, 128)          512       ['conv3_block4_2_conv[0][0]'] \n",
            " rmalization)                                                                                     \n",
            "                                                                                                  \n",
            " conv3_block4_2_relu (Activ  (None, 28, 28, 128)          0         ['conv3_block4_2_bn[0][0]']   \n",
            " ation)                                                                                           \n",
            "                                                                                                  \n",
            " conv3_block4_3_conv (Conv2  (None, 28, 28, 512)          66048     ['conv3_block4_2_relu[0][0]'] \n",
            " D)                                                                                               \n",
            "                                                                                                  \n",
            " conv3_block4_3_bn (BatchNo  (None, 28, 28, 512)          2048      ['conv3_block4_3_conv[0][0]'] \n",
            " rmalization)                                                                                     \n",
            "                                                                                                  \n",
            " conv3_block4_add (Add)      (None, 28, 28, 512)          0         ['conv3_block3_out[0][0]',    \n",
            "                                                                     'conv3_block4_3_bn[0][0]']   \n",
            "                                                                                                  \n",
            " conv3_block4_out (Activati  (None, 28, 28, 512)          0         ['conv3_block4_add[0][0]']    \n",
            " on)                                                                                              \n",
            "                                                                                                  \n",
            " conv4_block1_1_conv (Conv2  (None, 14, 14, 256)          131328    ['conv3_block4_out[0][0]']    \n",
            " D)                                                                                               \n",
            "                                                                                                  \n",
            " conv4_block1_1_bn (BatchNo  (None, 14, 14, 256)          1024      ['conv4_block1_1_conv[0][0]'] \n",
            " rmalization)                                                                                     \n",
            "                                                                                                  \n",
            " conv4_block1_1_relu (Activ  (None, 14, 14, 256)          0         ['conv4_block1_1_bn[0][0]']   \n",
            " ation)                                                                                           \n",
            "                                                                                                  \n",
            " conv4_block1_2_conv (Conv2  (None, 14, 14, 256)          590080    ['conv4_block1_1_relu[0][0]'] \n",
            " D)                                                                                               \n",
            "                                                                                                  \n",
            " conv4_block1_2_bn (BatchNo  (None, 14, 14, 256)          1024      ['conv4_block1_2_conv[0][0]'] \n",
            " rmalization)                                                                                     \n",
            "                                                                                                  \n",
            " conv4_block1_2_relu (Activ  (None, 14, 14, 256)          0         ['conv4_block1_2_bn[0][0]']   \n",
            " ation)                                                                                           \n",
            "                                                                                                  \n",
            " conv4_block1_0_conv (Conv2  (None, 14, 14, 1024)         525312    ['conv3_block4_out[0][0]']    \n",
            " D)                                                                                               \n",
            "                                                                                                  \n",
            " conv4_block1_3_conv (Conv2  (None, 14, 14, 1024)         263168    ['conv4_block1_2_relu[0][0]'] \n",
            " D)                                                                                               \n",
            "                                                                                                  \n",
            " conv4_block1_0_bn (BatchNo  (None, 14, 14, 1024)         4096      ['conv4_block1_0_conv[0][0]'] \n",
            " rmalization)                                                                                     \n",
            "                                                                                                  \n",
            " conv4_block1_3_bn (BatchNo  (None, 14, 14, 1024)         4096      ['conv4_block1_3_conv[0][0]'] \n",
            " rmalization)                                                                                     \n",
            "                                                                                                  \n",
            " conv4_block1_add (Add)      (None, 14, 14, 1024)         0         ['conv4_block1_0_bn[0][0]',   \n",
            "                                                                     'conv4_block1_3_bn[0][0]']   \n",
            "                                                                                                  \n",
            " conv4_block1_out (Activati  (None, 14, 14, 1024)         0         ['conv4_block1_add[0][0]']    \n",
            " on)                                                                                              \n",
            "                                                                                                  \n",
            " conv4_block2_1_conv (Conv2  (None, 14, 14, 256)          262400    ['conv4_block1_out[0][0]']    \n",
            " D)                                                                                               \n",
            "                                                                                                  \n",
            " conv4_block2_1_bn (BatchNo  (None, 14, 14, 256)          1024      ['conv4_block2_1_conv[0][0]'] \n",
            " rmalization)                                                                                     \n",
            "                                                                                                  \n",
            " conv4_block2_1_relu (Activ  (None, 14, 14, 256)          0         ['conv4_block2_1_bn[0][0]']   \n",
            " ation)                                                                                           \n",
            "                                                                                                  \n",
            " conv4_block2_2_conv (Conv2  (None, 14, 14, 256)          590080    ['conv4_block2_1_relu[0][0]'] \n",
            " D)                                                                                               \n",
            "                                                                                                  \n",
            " conv4_block2_2_bn (BatchNo  (None, 14, 14, 256)          1024      ['conv4_block2_2_conv[0][0]'] \n",
            " rmalization)                                                                                     \n",
            "                                                                                                  \n",
            " conv4_block2_2_relu (Activ  (None, 14, 14, 256)          0         ['conv4_block2_2_bn[0][0]']   \n",
            " ation)                                                                                           \n",
            "                                                                                                  \n",
            " conv4_block2_3_conv (Conv2  (None, 14, 14, 1024)         263168    ['conv4_block2_2_relu[0][0]'] \n",
            " D)                                                                                               \n",
            "                                                                                                  \n",
            " conv4_block2_3_bn (BatchNo  (None, 14, 14, 1024)         4096      ['conv4_block2_3_conv[0][0]'] \n",
            " rmalization)                                                                                     \n",
            "                                                                                                  \n",
            " conv4_block2_add (Add)      (None, 14, 14, 1024)         0         ['conv4_block1_out[0][0]',    \n",
            "                                                                     'conv4_block2_3_bn[0][0]']   \n",
            "                                                                                                  \n",
            " conv4_block2_out (Activati  (None, 14, 14, 1024)         0         ['conv4_block2_add[0][0]']    \n",
            " on)                                                                                              \n",
            "                                                                                                  \n",
            " conv4_block3_1_conv (Conv2  (None, 14, 14, 256)          262400    ['conv4_block2_out[0][0]']    \n",
            " D)                                                                                               \n",
            "                                                                                                  \n",
            " conv4_block3_1_bn (BatchNo  (None, 14, 14, 256)          1024      ['conv4_block3_1_conv[0][0]'] \n",
            " rmalization)                                                                                     \n",
            "                                                                                                  \n",
            " conv4_block3_1_relu (Activ  (None, 14, 14, 256)          0         ['conv4_block3_1_bn[0][0]']   \n",
            " ation)                                                                                           \n",
            "                                                                                                  \n",
            " conv4_block3_2_conv (Conv2  (None, 14, 14, 256)          590080    ['conv4_block3_1_relu[0][0]'] \n",
            " D)                                                                                               \n",
            "                                                                                                  \n",
            " conv4_block3_2_bn (BatchNo  (None, 14, 14, 256)          1024      ['conv4_block3_2_conv[0][0]'] \n",
            " rmalization)                                                                                     \n",
            "                                                                                                  \n",
            " conv4_block3_2_relu (Activ  (None, 14, 14, 256)          0         ['conv4_block3_2_bn[0][0]']   \n",
            " ation)                                                                                           \n",
            "                                                                                                  \n",
            " conv4_block3_3_conv (Conv2  (None, 14, 14, 1024)         263168    ['conv4_block3_2_relu[0][0]'] \n",
            " D)                                                                                               \n",
            "                                                                                                  \n",
            " conv4_block3_3_bn (BatchNo  (None, 14, 14, 1024)         4096      ['conv4_block3_3_conv[0][0]'] \n",
            " rmalization)                                                                                     \n",
            "                                                                                                  \n",
            " conv4_block3_add (Add)      (None, 14, 14, 1024)         0         ['conv4_block2_out[0][0]',    \n",
            "                                                                     'conv4_block3_3_bn[0][0]']   \n",
            "                                                                                                  \n",
            " conv4_block3_out (Activati  (None, 14, 14, 1024)         0         ['conv4_block3_add[0][0]']    \n",
            " on)                                                                                              \n",
            "                                                                                                  \n",
            " conv4_block4_1_conv (Conv2  (None, 14, 14, 256)          262400    ['conv4_block3_out[0][0]']    \n",
            " D)                                                                                               \n",
            "                                                                                                  \n",
            " conv4_block4_1_bn (BatchNo  (None, 14, 14, 256)          1024      ['conv4_block4_1_conv[0][0]'] \n",
            " rmalization)                                                                                     \n",
            "                                                                                                  \n",
            " conv4_block4_1_relu (Activ  (None, 14, 14, 256)          0         ['conv4_block4_1_bn[0][0]']   \n",
            " ation)                                                                                           \n",
            "                                                                                                  \n",
            " conv4_block4_2_conv (Conv2  (None, 14, 14, 256)          590080    ['conv4_block4_1_relu[0][0]'] \n",
            " D)                                                                                               \n",
            "                                                                                                  \n",
            " conv4_block4_2_bn (BatchNo  (None, 14, 14, 256)          1024      ['conv4_block4_2_conv[0][0]'] \n",
            " rmalization)                                                                                     \n",
            "                                                                                                  \n",
            " conv4_block4_2_relu (Activ  (None, 14, 14, 256)          0         ['conv4_block4_2_bn[0][0]']   \n",
            " ation)                                                                                           \n",
            "                                                                                                  \n",
            " conv4_block4_3_conv (Conv2  (None, 14, 14, 1024)         263168    ['conv4_block4_2_relu[0][0]'] \n",
            " D)                                                                                               \n",
            "                                                                                                  \n",
            " conv4_block4_3_bn (BatchNo  (None, 14, 14, 1024)         4096      ['conv4_block4_3_conv[0][0]'] \n",
            " rmalization)                                                                                     \n",
            "                                                                                                  \n",
            " conv4_block4_add (Add)      (None, 14, 14, 1024)         0         ['conv4_block3_out[0][0]',    \n",
            "                                                                     'conv4_block4_3_bn[0][0]']   \n",
            "                                                                                                  \n",
            " conv4_block4_out (Activati  (None, 14, 14, 1024)         0         ['conv4_block4_add[0][0]']    \n",
            " on)                                                                                              \n",
            "                                                                                                  \n",
            " conv4_block5_1_conv (Conv2  (None, 14, 14, 256)          262400    ['conv4_block4_out[0][0]']    \n",
            " D)                                                                                               \n",
            "                                                                                                  \n",
            " conv4_block5_1_bn (BatchNo  (None, 14, 14, 256)          1024      ['conv4_block5_1_conv[0][0]'] \n",
            " rmalization)                                                                                     \n",
            "                                                                                                  \n",
            " conv4_block5_1_relu (Activ  (None, 14, 14, 256)          0         ['conv4_block5_1_bn[0][0]']   \n",
            " ation)                                                                                           \n",
            "                                                                                                  \n",
            " conv4_block5_2_conv (Conv2  (None, 14, 14, 256)          590080    ['conv4_block5_1_relu[0][0]'] \n",
            " D)                                                                                               \n",
            "                                                                                                  \n",
            " conv4_block5_2_bn (BatchNo  (None, 14, 14, 256)          1024      ['conv4_block5_2_conv[0][0]'] \n",
            " rmalization)                                                                                     \n",
            "                                                                                                  \n",
            " conv4_block5_2_relu (Activ  (None, 14, 14, 256)          0         ['conv4_block5_2_bn[0][0]']   \n",
            " ation)                                                                                           \n",
            "                                                                                                  \n",
            " conv4_block5_3_conv (Conv2  (None, 14, 14, 1024)         263168    ['conv4_block5_2_relu[0][0]'] \n",
            " D)                                                                                               \n",
            "                                                                                                  \n",
            " conv4_block5_3_bn (BatchNo  (None, 14, 14, 1024)         4096      ['conv4_block5_3_conv[0][0]'] \n",
            " rmalization)                                                                                     \n",
            "                                                                                                  \n",
            " conv4_block5_add (Add)      (None, 14, 14, 1024)         0         ['conv4_block4_out[0][0]',    \n",
            "                                                                     'conv4_block5_3_bn[0][0]']   \n",
            "                                                                                                  \n",
            " conv4_block5_out (Activati  (None, 14, 14, 1024)         0         ['conv4_block5_add[0][0]']    \n",
            " on)                                                                                              \n",
            "                                                                                                  \n",
            " conv4_block6_1_conv (Conv2  (None, 14, 14, 256)          262400    ['conv4_block5_out[0][0]']    \n",
            " D)                                                                                               \n",
            "                                                                                                  \n",
            " conv4_block6_1_bn (BatchNo  (None, 14, 14, 256)          1024      ['conv4_block6_1_conv[0][0]'] \n",
            " rmalization)                                                                                     \n",
            "                                                                                                  \n",
            " conv4_block6_1_relu (Activ  (None, 14, 14, 256)          0         ['conv4_block6_1_bn[0][0]']   \n",
            " ation)                                                                                           \n",
            "                                                                                                  \n",
            " conv4_block6_2_conv (Conv2  (None, 14, 14, 256)          590080    ['conv4_block6_1_relu[0][0]'] \n",
            " D)                                                                                               \n",
            "                                                                                                  \n",
            " conv4_block6_2_bn (BatchNo  (None, 14, 14, 256)          1024      ['conv4_block6_2_conv[0][0]'] \n",
            " rmalization)                                                                                     \n",
            "                                                                                                  \n",
            " conv4_block6_2_relu (Activ  (None, 14, 14, 256)          0         ['conv4_block6_2_bn[0][0]']   \n",
            " ation)                                                                                           \n",
            "                                                                                                  \n",
            " conv4_block6_3_conv (Conv2  (None, 14, 14, 1024)         263168    ['conv4_block6_2_relu[0][0]'] \n",
            " D)                                                                                               \n",
            "                                                                                                  \n",
            " conv4_block6_3_bn (BatchNo  (None, 14, 14, 1024)         4096      ['conv4_block6_3_conv[0][0]'] \n",
            " rmalization)                                                                                     \n",
            "                                                                                                  \n",
            " conv4_block6_add (Add)      (None, 14, 14, 1024)         0         ['conv4_block5_out[0][0]',    \n",
            "                                                                     'conv4_block6_3_bn[0][0]']   \n",
            "                                                                                                  \n",
            " conv4_block6_out (Activati  (None, 14, 14, 1024)         0         ['conv4_block6_add[0][0]']    \n",
            " on)                                                                                              \n",
            "                                                                                                  \n",
            " conv5_block1_1_conv (Conv2  (None, 7, 7, 512)            524800    ['conv4_block6_out[0][0]']    \n",
            " D)                                                                                               \n",
            "                                                                                                  \n",
            " conv5_block1_1_bn (BatchNo  (None, 7, 7, 512)            2048      ['conv5_block1_1_conv[0][0]'] \n",
            " rmalization)                                                                                     \n",
            "                                                                                                  \n",
            " conv5_block1_1_relu (Activ  (None, 7, 7, 512)            0         ['conv5_block1_1_bn[0][0]']   \n",
            " ation)                                                                                           \n",
            "                                                                                                  \n",
            " conv5_block1_2_conv (Conv2  (None, 7, 7, 512)            2359808   ['conv5_block1_1_relu[0][0]'] \n",
            " D)                                                                                               \n",
            "                                                                                                  \n",
            " conv5_block1_2_bn (BatchNo  (None, 7, 7, 512)            2048      ['conv5_block1_2_conv[0][0]'] \n",
            " rmalization)                                                                                     \n",
            "                                                                                                  \n",
            " conv5_block1_2_relu (Activ  (None, 7, 7, 512)            0         ['conv5_block1_2_bn[0][0]']   \n",
            " ation)                                                                                           \n",
            "                                                                                                  \n",
            " conv5_block1_0_conv (Conv2  (None, 7, 7, 2048)           2099200   ['conv4_block6_out[0][0]']    \n",
            " D)                                                                                               \n",
            "                                                                                                  \n",
            " conv5_block1_3_conv (Conv2  (None, 7, 7, 2048)           1050624   ['conv5_block1_2_relu[0][0]'] \n",
            " D)                                                                                               \n",
            "                                                                                                  \n",
            " conv5_block1_0_bn (BatchNo  (None, 7, 7, 2048)           8192      ['conv5_block1_0_conv[0][0]'] \n",
            " rmalization)                                                                                     \n",
            "                                                                                                  \n",
            " conv5_block1_3_bn (BatchNo  (None, 7, 7, 2048)           8192      ['conv5_block1_3_conv[0][0]'] \n",
            " rmalization)                                                                                     \n",
            "                                                                                                  \n",
            " conv5_block1_add (Add)      (None, 7, 7, 2048)           0         ['conv5_block1_0_bn[0][0]',   \n",
            "                                                                     'conv5_block1_3_bn[0][0]']   \n",
            "                                                                                                  \n",
            " conv5_block1_out (Activati  (None, 7, 7, 2048)           0         ['conv5_block1_add[0][0]']    \n",
            " on)                                                                                              \n",
            "                                                                                                  \n",
            " conv5_block2_1_conv (Conv2  (None, 7, 7, 512)            1049088   ['conv5_block1_out[0][0]']    \n",
            " D)                                                                                               \n",
            "                                                                                                  \n",
            " conv5_block2_1_bn (BatchNo  (None, 7, 7, 512)            2048      ['conv5_block2_1_conv[0][0]'] \n",
            " rmalization)                                                                                     \n",
            "                                                                                                  \n",
            " conv5_block2_1_relu (Activ  (None, 7, 7, 512)            0         ['conv5_block2_1_bn[0][0]']   \n",
            " ation)                                                                                           \n",
            "                                                                                                  \n",
            " conv5_block2_2_conv (Conv2  (None, 7, 7, 512)            2359808   ['conv5_block2_1_relu[0][0]'] \n",
            " D)                                                                                               \n",
            "                                                                                                  \n",
            " conv5_block2_2_bn (BatchNo  (None, 7, 7, 512)            2048      ['conv5_block2_2_conv[0][0]'] \n",
            " rmalization)                                                                                     \n",
            "                                                                                                  \n",
            " conv5_block2_2_relu (Activ  (None, 7, 7, 512)            0         ['conv5_block2_2_bn[0][0]']   \n",
            " ation)                                                                                           \n",
            "                                                                                                  \n",
            " conv5_block2_3_conv (Conv2  (None, 7, 7, 2048)           1050624   ['conv5_block2_2_relu[0][0]'] \n",
            " D)                                                                                               \n",
            "                                                                                                  \n",
            " conv5_block2_3_bn (BatchNo  (None, 7, 7, 2048)           8192      ['conv5_block2_3_conv[0][0]'] \n",
            " rmalization)                                                                                     \n",
            "                                                                                                  \n",
            " conv5_block2_add (Add)      (None, 7, 7, 2048)           0         ['conv5_block1_out[0][0]',    \n",
            "                                                                     'conv5_block2_3_bn[0][0]']   \n",
            "                                                                                                  \n",
            " conv5_block2_out (Activati  (None, 7, 7, 2048)           0         ['conv5_block2_add[0][0]']    \n",
            " on)                                                                                              \n",
            "                                                                                                  \n",
            " conv5_block3_1_conv (Conv2  (None, 7, 7, 512)            1049088   ['conv5_block2_out[0][0]']    \n",
            " D)                                                                                               \n",
            "                                                                                                  \n",
            " conv5_block3_1_bn (BatchNo  (None, 7, 7, 512)            2048      ['conv5_block3_1_conv[0][0]'] \n",
            " rmalization)                                                                                     \n",
            "                                                                                                  \n",
            " conv5_block3_1_relu (Activ  (None, 7, 7, 512)            0         ['conv5_block3_1_bn[0][0]']   \n",
            " ation)                                                                                           \n",
            "                                                                                                  \n",
            " conv5_block3_2_conv (Conv2  (None, 7, 7, 512)            2359808   ['conv5_block3_1_relu[0][0]'] \n",
            " D)                                                                                               \n",
            "                                                                                                  \n",
            " conv5_block3_2_bn (BatchNo  (None, 7, 7, 512)            2048      ['conv5_block3_2_conv[0][0]'] \n",
            " rmalization)                                                                                     \n",
            "                                                                                                  \n",
            " conv5_block3_2_relu (Activ  (None, 7, 7, 512)            0         ['conv5_block3_2_bn[0][0]']   \n",
            " ation)                                                                                           \n",
            "                                                                                                  \n",
            " conv5_block3_3_conv (Conv2  (None, 7, 7, 2048)           1050624   ['conv5_block3_2_relu[0][0]'] \n",
            " D)                                                                                               \n",
            "                                                                                                  \n",
            " conv5_block3_3_bn (BatchNo  (None, 7, 7, 2048)           8192      ['conv5_block3_3_conv[0][0]'] \n",
            " rmalization)                                                                                     \n",
            "                                                                                                  \n",
            " conv5_block3_add (Add)      (None, 7, 7, 2048)           0         ['conv5_block2_out[0][0]',    \n",
            "                                                                     'conv5_block3_3_bn[0][0]']   \n",
            "                                                                                                  \n",
            " conv5_block3_out (Activati  (None, 7, 7, 2048)           0         ['conv5_block3_add[0][0]']    \n",
            " on)                                                                                              \n",
            "                                                                                                  \n",
            " flatten_2 (Flatten)         (None, 100352)               0         ['conv5_block3_out[0][0]']    \n",
            "                                                                                                  \n",
            " dense_2 (Dense)             (None, 4)                    401412    ['flatten_2[0][0]']           \n",
            "                                                                                                  \n",
            "==================================================================================================\n",
            "Total params: 23989124 (91.51 MB)\n",
            "Trainable params: 401412 (1.53 MB)\n",
            "Non-trainable params: 23587712 (89.98 MB)\n",
            "__________________________________________________________________________________________________\n"
          ]
        }
      ]
    },
    {
      "cell_type": "code",
      "source": [
        "resnet50.compile(loss = 'categorical_crossentropy',optimizer = 'adam',metrics =['accuracy'])"
      ],
      "metadata": {
        "id": "EmEWXHK5zD10"
      },
      "execution_count": null,
      "outputs": []
    },
    {
      "cell_type": "code",
      "source": [
        "resnet50.fit(train,validation_data=test,epochs=2,steps_per_epoch=len(train),validation_steps =len(test))"
      ],
      "metadata": {
        "colab": {
          "base_uri": "https://localhost:8080/"
        },
        "id": "9K4A6bmXzSwi",
        "outputId": "409360ac-dbd8-413f-b79a-5205564e5a74"
      },
      "execution_count": null,
      "outputs": [
        {
          "output_type": "stream",
          "name": "stdout",
          "text": [
            "Epoch 1/2\n",
            "78/78 [==============================] - 24s 253ms/step - loss: 2.7053 - accuracy: 0.4015 - val_loss: 0.9767 - val_accuracy: 0.5706\n",
            "Epoch 2/2\n",
            "78/78 [==============================] - 20s 250ms/step - loss: 1.3445 - accuracy: 0.5162 - val_loss: 1.4787 - val_accuracy: 0.5521\n"
          ]
        },
        {
          "output_type": "execute_result",
          "data": {
            "text/plain": [
              "<keras.src.callbacks.History at 0x79451550ac20>"
            ]
          },
          "metadata": {},
          "execution_count": 101
        }
      ]
    },
    {
      "cell_type": "markdown",
      "source": [
        "#Inception"
      ],
      "metadata": {
        "id": "s86p2KLLzaTF"
      }
    },
    {
      "cell_type": "code",
      "source": [
        "from tensorflow.keras.applications.inception_v3 import InceptionV3\n",
        "from tensorflow.keras.layers import Dense, Flatten\n",
        "from tensorflow.keras.models import Model"
      ],
      "metadata": {
        "id": "iGgSTN2KzZTm"
      },
      "execution_count": null,
      "outputs": []
    },
    {
      "cell_type": "code",
      "source": [
        "InceptionV3 = InceptionV3(include_top = False,input_shape = (299,299,3))"
      ],
      "metadata": {
        "colab": {
          "base_uri": "https://localhost:8080/",
          "height": 338
        },
        "id": "CXcANy2K0hGb",
        "outputId": "9b40a2c2-d35f-428b-9494-06b379c3bda5"
      },
      "execution_count": null,
      "outputs": [
        {
          "output_type": "error",
          "ename": "ValueError",
          "evalue": "ignored",
          "traceback": [
            "\u001b[0;31m---------------------------------------------------------------------------\u001b[0m",
            "\u001b[0;31mValueError\u001b[0m                                Traceback (most recent call last)",
            "\u001b[0;32m<ipython-input-106-1642f79c8e2c>\u001b[0m in \u001b[0;36m<cell line: 1>\u001b[0;34m()\u001b[0m\n\u001b[0;32m----> 1\u001b[0;31m \u001b[0mInceptionV3\u001b[0m \u001b[0;34m=\u001b[0m \u001b[0mInceptionV3\u001b[0m\u001b[0;34m(\u001b[0m\u001b[0minclude_top\u001b[0m \u001b[0;34m=\u001b[0m \u001b[0;32mFalse\u001b[0m\u001b[0;34m,\u001b[0m\u001b[0minput_shape\u001b[0m \u001b[0;34m=\u001b[0m \u001b[0;34m(\u001b[0m\u001b[0;36m299\u001b[0m\u001b[0;34m,\u001b[0m\u001b[0;36m299\u001b[0m\u001b[0;34m,\u001b[0m\u001b[0;36m3\u001b[0m\u001b[0;34m)\u001b[0m\u001b[0;34m)\u001b[0m\u001b[0;34m\u001b[0m\u001b[0;34m\u001b[0m\u001b[0m\n\u001b[0m",
            "\u001b[0;32m/usr/local/lib/python3.10/dist-packages/keras/src/utils/traceback_utils.py\u001b[0m in \u001b[0;36merror_handler\u001b[0;34m(*args, **kwargs)\u001b[0m\n\u001b[1;32m     68\u001b[0m             \u001b[0;31m# To get the full stack trace, call:\u001b[0m\u001b[0;34m\u001b[0m\u001b[0;34m\u001b[0m\u001b[0m\n\u001b[1;32m     69\u001b[0m             \u001b[0;31m# `tf.debugging.disable_traceback_filtering()`\u001b[0m\u001b[0;34m\u001b[0m\u001b[0;34m\u001b[0m\u001b[0m\n\u001b[0;32m---> 70\u001b[0;31m             \u001b[0;32mraise\u001b[0m \u001b[0me\u001b[0m\u001b[0;34m.\u001b[0m\u001b[0mwith_traceback\u001b[0m\u001b[0;34m(\u001b[0m\u001b[0mfiltered_tb\u001b[0m\u001b[0;34m)\u001b[0m \u001b[0;32mfrom\u001b[0m \u001b[0;32mNone\u001b[0m\u001b[0;34m\u001b[0m\u001b[0;34m\u001b[0m\u001b[0m\n\u001b[0m\u001b[1;32m     71\u001b[0m         \u001b[0;32mfinally\u001b[0m\u001b[0;34m:\u001b[0m\u001b[0;34m\u001b[0m\u001b[0;34m\u001b[0m\u001b[0m\n\u001b[1;32m     72\u001b[0m             \u001b[0;32mdel\u001b[0m \u001b[0mfiltered_tb\u001b[0m\u001b[0;34m\u001b[0m\u001b[0;34m\u001b[0m\u001b[0m\n",
            "\u001b[0;32m/usr/local/lib/python3.10/dist-packages/keras/src/utils/layer_utils.py\u001b[0m in \u001b[0;36msplit_out_first_arg\u001b[0;34m(self, args, kwargs)\u001b[0m\n\u001b[1;32m    967\u001b[0m             \u001b[0minputs\u001b[0m \u001b[0;34m=\u001b[0m \u001b[0mkwargs\u001b[0m\u001b[0;34m.\u001b[0m\u001b[0mpop\u001b[0m\u001b[0;34m(\u001b[0m\u001b[0mself\u001b[0m\u001b[0;34m.\u001b[0m\u001b[0m_arg_names\u001b[0m\u001b[0;34m[\u001b[0m\u001b[0;36m0\u001b[0m\u001b[0;34m]\u001b[0m\u001b[0;34m)\u001b[0m\u001b[0;34m\u001b[0m\u001b[0;34m\u001b[0m\u001b[0m\n\u001b[1;32m    968\u001b[0m         \u001b[0;32melse\u001b[0m\u001b[0;34m:\u001b[0m\u001b[0;34m\u001b[0m\u001b[0;34m\u001b[0m\u001b[0m\n\u001b[0;32m--> 969\u001b[0;31m             raise ValueError(\n\u001b[0m\u001b[1;32m    970\u001b[0m                 \u001b[0;34m\"The first argument to `Layer.call` must always be passed.\"\u001b[0m\u001b[0;34m\u001b[0m\u001b[0;34m\u001b[0m\u001b[0m\n\u001b[1;32m    971\u001b[0m             )\n",
            "\u001b[0;31mValueError\u001b[0m: The first argument to `Layer.call` must always be passed."
          ]
        }
      ]
    },
    {
      "cell_type": "code",
      "source": [
        "for layer in InceptionV3.layers:\n",
        "  print(layer)"
      ],
      "metadata": {
        "colab": {
          "base_uri": "https://localhost:8080/"
        },
        "id": "vTtdQ0yY0jqZ",
        "outputId": "1d600ba3-26ca-4e14-a9e8-3a230c6093d0"
      },
      "execution_count": null,
      "outputs": [
        {
          "output_type": "stream",
          "name": "stdout",
          "text": [
            "<keras.src.engine.input_layer.InputLayer object at 0x79451533a680>\n",
            "<keras.src.layers.convolutional.conv2d.Conv2D object at 0x794515339210>\n",
            "<keras.src.layers.normalization.batch_normalization.BatchNormalization object at 0x794511f4b070>\n",
            "<keras.src.layers.core.activation.Activation object at 0x7945153d6da0>\n",
            "<keras.src.layers.convolutional.conv2d.Conv2D object at 0x794511f1fdc0>\n",
            "<keras.src.layers.normalization.batch_normalization.BatchNormalization object at 0x794511ed9ea0>\n",
            "<keras.src.layers.core.activation.Activation object at 0x794511ed9930>\n",
            "<keras.src.layers.convolutional.conv2d.Conv2D object at 0x794511eda290>\n",
            "<keras.src.layers.normalization.batch_normalization.BatchNormalization object at 0x794511eda200>\n",
            "<keras.src.layers.core.activation.Activation object at 0x794511edb4f0>\n",
            "<keras.src.layers.pooling.max_pooling2d.MaxPooling2D object at 0x794511ed9420>\n",
            "<keras.src.layers.convolutional.conv2d.Conv2D object at 0x794511edb340>\n",
            "<keras.src.layers.normalization.batch_normalization.BatchNormalization object at 0x794511ed9c60>\n",
            "<keras.src.layers.core.activation.Activation object at 0x794511eda3b0>\n",
            "<keras.src.layers.convolutional.conv2d.Conv2D object at 0x794511edbf10>\n",
            "<keras.src.layers.normalization.batch_normalization.BatchNormalization object at 0x794511edbb80>\n",
            "<keras.src.layers.core.activation.Activation object at 0x794511edda50>\n",
            "<keras.src.layers.pooling.max_pooling2d.MaxPooling2D object at 0x794511edde10>\n",
            "<keras.src.layers.convolutional.conv2d.Conv2D object at 0x794511efe890>\n",
            "<keras.src.layers.normalization.batch_normalization.BatchNormalization object at 0x794511efe350>\n",
            "<keras.src.layers.core.activation.Activation object at 0x794511efe7a0>\n",
            "<keras.src.layers.convolutional.conv2d.Conv2D object at 0x794511edee90>\n",
            "<keras.src.layers.convolutional.conv2d.Conv2D object at 0x794511efec50>\n",
            "<keras.src.layers.normalization.batch_normalization.BatchNormalization object at 0x794511edf6d0>\n",
            "<keras.src.layers.normalization.batch_normalization.BatchNormalization object at 0x794511efe4a0>\n",
            "<keras.src.layers.core.activation.Activation object at 0x794511edfe50>\n",
            "<keras.src.layers.core.activation.Activation object at 0x794511effac0>\n",
            "<keras.src.layers.pooling.average_pooling2d.AveragePooling2D object at 0x794511d270d0>\n",
            "<keras.src.layers.convolutional.conv2d.Conv2D object at 0x794511edd9f0>\n",
            "<keras.src.layers.convolutional.conv2d.Conv2D object at 0x794511edf670>\n",
            "<keras.src.layers.convolutional.conv2d.Conv2D object at 0x794511efd540>\n",
            "<keras.src.layers.convolutional.conv2d.Conv2D object at 0x794511d262f0>\n",
            "<keras.src.layers.normalization.batch_normalization.BatchNormalization object at 0x794511edf8e0>\n",
            "<keras.src.layers.normalization.batch_normalization.BatchNormalization object at 0x794511efc970>\n",
            "<keras.src.layers.normalization.batch_normalization.BatchNormalization object at 0x794511d257e0>\n",
            "<keras.src.layers.normalization.batch_normalization.BatchNormalization object at 0x794511d27bb0>\n",
            "<keras.src.layers.core.activation.Activation object at 0x794511edf880>\n",
            "<keras.src.layers.core.activation.Activation object at 0x794511efe0b0>\n",
            "<keras.src.layers.core.activation.Activation object at 0x794511d26380>\n",
            "<keras.src.layers.core.activation.Activation object at 0x794511d27dc0>\n",
            "<keras.src.layers.merging.concatenate.Concatenate object at 0x794511d27a30>\n",
            "<keras.src.layers.convolutional.conv2d.Conv2D object at 0x794511d47ca0>\n",
            "<keras.src.layers.normalization.batch_normalization.BatchNormalization object at 0x794511d47760>\n",
            "<keras.src.layers.core.activation.Activation object at 0x794511efe9b0>\n",
            "<keras.src.layers.convolutional.conv2d.Conv2D object at 0x794511d46230>\n",
            "<keras.src.layers.convolutional.conv2d.Conv2D object at 0x794511efe830>\n",
            "<keras.src.layers.normalization.batch_normalization.BatchNormalization object at 0x794511d46f20>\n",
            "<keras.src.layers.normalization.batch_normalization.BatchNormalization object at 0x794511d24070>\n",
            "<keras.src.layers.core.activation.Activation object at 0x794511d44670>\n",
            "<keras.src.layers.core.activation.Activation object at 0x794511d47c40>\n",
            "<keras.src.layers.pooling.average_pooling2d.AveragePooling2D object at 0x794511d72cb0>\n",
            "<keras.src.layers.convolutional.conv2d.Conv2D object at 0x794511d276d0>\n",
            "<keras.src.layers.convolutional.conv2d.Conv2D object at 0x794511d465f0>\n",
            "<keras.src.layers.convolutional.conv2d.Conv2D object at 0x794511ede4a0>\n",
            "<keras.src.layers.convolutional.conv2d.Conv2D object at 0x794511edea40>\n",
            "<keras.src.layers.normalization.batch_normalization.BatchNormalization object at 0x794511d45c30>\n",
            "<keras.src.layers.normalization.batch_normalization.BatchNormalization object at 0x794511d46b00>\n",
            "<keras.src.layers.normalization.batch_normalization.BatchNormalization object at 0x794511effb80>\n",
            "<keras.src.layers.normalization.batch_normalization.BatchNormalization object at 0x794511d73c40>\n",
            "<keras.src.layers.core.activation.Activation object at 0x794515389330>\n",
            "<keras.src.layers.core.activation.Activation object at 0x794511d47970>\n",
            "<keras.src.layers.core.activation.Activation object at 0x794511edf250>\n",
            "<keras.src.layers.core.activation.Activation object at 0x794511d73b80>\n",
            "<keras.src.layers.merging.concatenate.Concatenate object at 0x794511d70e50>\n",
            "<keras.src.layers.convolutional.conv2d.Conv2D object at 0x794511d8fb50>\n",
            "<keras.src.layers.normalization.batch_normalization.BatchNormalization object at 0x794511d8f520>\n",
            "<keras.src.layers.core.activation.Activation object at 0x794511d8fa00>\n",
            "<keras.src.layers.convolutional.conv2d.Conv2D object at 0x794511d8ceb0>\n",
            "<keras.src.layers.convolutional.conv2d.Conv2D object at 0x794511da1810>\n",
            "<keras.src.layers.normalization.batch_normalization.BatchNormalization object at 0x794511d8ea70>\n",
            "<keras.src.layers.normalization.batch_normalization.BatchNormalization object at 0x794511da1480>\n",
            "<keras.src.layers.core.activation.Activation object at 0x794511d8cdf0>\n",
            "<keras.src.layers.core.activation.Activation object at 0x794511da2a40>\n",
            "<keras.src.layers.pooling.average_pooling2d.AveragePooling2D object at 0x794511da2440>\n",
            "<keras.src.layers.convolutional.conv2d.Conv2D object at 0x794511d73dc0>\n",
            "<keras.src.layers.convolutional.conv2d.Conv2D object at 0x794511d8ee60>\n",
            "<keras.src.layers.convolutional.conv2d.Conv2D object at 0x794511da1e70>\n",
            "<keras.src.layers.convolutional.conv2d.Conv2D object at 0x794511da2f80>\n",
            "<keras.src.layers.normalization.batch_normalization.BatchNormalization object at 0x794511d728c0>\n",
            "<keras.src.layers.normalization.batch_normalization.BatchNormalization object at 0x794511d8fe50>\n",
            "<keras.src.layers.normalization.batch_normalization.BatchNormalization object at 0x794511da3550>\n",
            "<keras.src.layers.normalization.batch_normalization.BatchNormalization object at 0x794511dc1f30>\n",
            "<keras.src.layers.core.activation.Activation object at 0x794511d457b0>\n",
            "<keras.src.layers.core.activation.Activation object at 0x794511d8fca0>\n",
            "<keras.src.layers.core.activation.Activation object at 0x794511da2620>\n",
            "<keras.src.layers.core.activation.Activation object at 0x794511da2f20>\n",
            "<keras.src.layers.merging.concatenate.Concatenate object at 0x794511dc2530>\n",
            "<keras.src.layers.convolutional.conv2d.Conv2D object at 0x794511dc3c40>\n",
            "<keras.src.layers.normalization.batch_normalization.BatchNormalization object at 0x794511dc2b00>\n",
            "<keras.src.layers.core.activation.Activation object at 0x794511da1ea0>\n",
            "<keras.src.layers.convolutional.conv2d.Conv2D object at 0x794511dc3af0>\n",
            "<keras.src.layers.normalization.batch_normalization.BatchNormalization object at 0x794511d8c370>\n",
            "<keras.src.layers.core.activation.Activation object at 0x794511da1c60>\n",
            "<keras.src.layers.convolutional.conv2d.Conv2D object at 0x794511dc1e40>\n",
            "<keras.src.layers.convolutional.conv2d.Conv2D object at 0x794511d8c4c0>\n",
            "<keras.src.layers.normalization.batch_normalization.BatchNormalization object at 0x794511dc3820>\n",
            "<keras.src.layers.normalization.batch_normalization.BatchNormalization object at 0x794511d72da0>\n",
            "<keras.src.layers.core.activation.Activation object at 0x794511dc32b0>\n",
            "<keras.src.layers.core.activation.Activation object at 0x794511da3250>\n",
            "<keras.src.layers.pooling.max_pooling2d.MaxPooling2D object at 0x794511de4d90>\n",
            "<keras.src.layers.merging.concatenate.Concatenate object at 0x794511dc08e0>\n",
            "<keras.src.layers.convolutional.conv2d.Conv2D object at 0x794511df25c0>\n",
            "<keras.src.layers.normalization.batch_normalization.BatchNormalization object at 0x794511df3d30>\n",
            "<keras.src.layers.core.activation.Activation object at 0x794511df09a0>\n",
            "<keras.src.layers.convolutional.conv2d.Conv2D object at 0x794511df3490>\n",
            "<keras.src.layers.normalization.batch_normalization.BatchNormalization object at 0x794511c12020>\n",
            "<keras.src.layers.core.activation.Activation object at 0x794511c11750>\n",
            "<keras.src.layers.convolutional.conv2d.Conv2D object at 0x794511de7880>\n",
            "<keras.src.layers.convolutional.conv2d.Conv2D object at 0x794511c12440>\n",
            "<keras.src.layers.normalization.batch_normalization.BatchNormalization object at 0x794511de4dc0>\n",
            "<keras.src.layers.normalization.batch_normalization.BatchNormalization object at 0x794511c133d0>\n",
            "<keras.src.layers.core.activation.Activation object at 0x794511de6650>\n",
            "<keras.src.layers.core.activation.Activation object at 0x794511c12fb0>\n",
            "<keras.src.layers.convolutional.conv2d.Conv2D object at 0x794511de79a0>\n",
            "<keras.src.layers.convolutional.conv2d.Conv2D object at 0x794511c12800>\n",
            "<keras.src.layers.normalization.batch_normalization.BatchNormalization object at 0x794511df1e10>\n",
            "<keras.src.layers.normalization.batch_normalization.BatchNormalization object at 0x794511c13f40>\n",
            "<keras.src.layers.core.activation.Activation object at 0x794511df1540>\n",
            "<keras.src.layers.core.activation.Activation object at 0x794511c13d90>\n",
            "<keras.src.layers.pooling.average_pooling2d.AveragePooling2D object at 0x794511dc2740>\n",
            "<keras.src.layers.convolutional.conv2d.Conv2D object at 0x794511de5b40>\n",
            "<keras.src.layers.convolutional.conv2d.Conv2D object at 0x794511df2200>\n",
            "<keras.src.layers.convolutional.conv2d.Conv2D object at 0x794511c136d0>\n",
            "<keras.src.layers.convolutional.conv2d.Conv2D object at 0x794511de65f0>\n",
            "<keras.src.layers.normalization.batch_normalization.BatchNormalization object at 0x794511de7250>\n",
            "<keras.src.layers.normalization.batch_normalization.BatchNormalization object at 0x794511df3190>\n",
            "<keras.src.layers.normalization.batch_normalization.BatchNormalization object at 0x794511c12f80>\n",
            "<keras.src.layers.normalization.batch_normalization.BatchNormalization object at 0x794511da0430>\n",
            "<keras.src.layers.core.activation.Activation object at 0x794511de6d40>\n",
            "<keras.src.layers.core.activation.Activation object at 0x794511df2d70>\n",
            "<keras.src.layers.core.activation.Activation object at 0x794511c139a0>\n",
            "<keras.src.layers.core.activation.Activation object at 0x794511de5540>\n",
            "<keras.src.layers.merging.concatenate.Concatenate object at 0x794511da07c0>\n",
            "<keras.src.layers.convolutional.conv2d.Conv2D object at 0x794511c44c10>\n",
            "<keras.src.layers.normalization.batch_normalization.BatchNormalization object at 0x794511c46230>\n",
            "<keras.src.layers.core.activation.Activation object at 0x794511c479d0>\n",
            "<keras.src.layers.convolutional.conv2d.Conv2D object at 0x794511c47460>\n",
            "<keras.src.layers.normalization.batch_normalization.BatchNormalization object at 0x794511c47670>\n",
            "<keras.src.layers.core.activation.Activation object at 0x794511c45c90>\n",
            "<keras.src.layers.convolutional.conv2d.Conv2D object at 0x794511df18a0>\n",
            "<keras.src.layers.convolutional.conv2d.Conv2D object at 0x794511c61db0>\n",
            "<keras.src.layers.normalization.batch_normalization.BatchNormalization object at 0x794511c2f700>\n",
            "<keras.src.layers.normalization.batch_normalization.BatchNormalization object at 0x794511c63040>\n",
            "<keras.src.layers.core.activation.Activation object at 0x794511d8d0c0>\n",
            "<keras.src.layers.core.activation.Activation object at 0x794511c62c20>\n",
            "<keras.src.layers.convolutional.conv2d.Conv2D object at 0x794511c2fbe0>\n",
            "<keras.src.layers.convolutional.conv2d.Conv2D object at 0x794511c62380>\n",
            "<keras.src.layers.normalization.batch_normalization.BatchNormalization object at 0x794511c2d3f0>\n",
            "<keras.src.layers.normalization.batch_normalization.BatchNormalization object at 0x794511c63be0>\n",
            "<keras.src.layers.core.activation.Activation object at 0x794511c2f430>\n",
            "<keras.src.layers.core.activation.Activation object at 0x794511c625c0>\n",
            "<keras.src.layers.pooling.average_pooling2d.AveragePooling2D object at 0x794511c827d0>\n",
            "<keras.src.layers.convolutional.conv2d.Conv2D object at 0x794511edefe0>\n",
            "<keras.src.layers.convolutional.conv2d.Conv2D object at 0x794511c2e0e0>\n",
            "<keras.src.layers.convolutional.conv2d.Conv2D object at 0x794511c63340>\n",
            "<keras.src.layers.convolutional.conv2d.Conv2D object at 0x794511c81780>\n",
            "<keras.src.layers.normalization.batch_normalization.BatchNormalization object at 0x794511c13f10>\n",
            "<keras.src.layers.normalization.batch_normalization.BatchNormalization object at 0x794511c46e30>\n",
            "<keras.src.layers.normalization.batch_normalization.BatchNormalization object at 0x794511c81ed0>\n",
            "<keras.src.layers.normalization.batch_normalization.BatchNormalization object at 0x794511c83940>\n",
            "<keras.src.layers.core.activation.Activation object at 0x794511dc16f0>\n",
            "<keras.src.layers.core.activation.Activation object at 0x794511c46a10>\n",
            "<keras.src.layers.core.activation.Activation object at 0x794511c81600>\n",
            "<keras.src.layers.core.activation.Activation object at 0x794511c834c0>\n",
            "<keras.src.layers.merging.concatenate.Concatenate object at 0x794511c82980>\n",
            "<keras.src.layers.convolutional.conv2d.Conv2D object at 0x794511c9d900>\n",
            "<keras.src.layers.normalization.batch_normalization.BatchNormalization object at 0x794511c9f730>\n",
            "<keras.src.layers.core.activation.Activation object at 0x794511c9e320>\n",
            "<keras.src.layers.convolutional.conv2d.Conv2D object at 0x794511c9f1c0>\n",
            "<keras.src.layers.normalization.batch_normalization.BatchNormalization object at 0x794511c9fd90>\n",
            "<keras.src.layers.core.activation.Activation object at 0x794511c9f2b0>\n",
            "<keras.src.layers.convolutional.conv2d.Conv2D object at 0x794511c82530>\n",
            "<keras.src.layers.convolutional.conv2d.Conv2D object at 0x794511c9f340>\n",
            "<keras.src.layers.normalization.batch_normalization.BatchNormalization object at 0x794511de70a0>\n",
            "<keras.src.layers.normalization.batch_normalization.BatchNormalization object at 0x794511cb6da0>\n",
            "<keras.src.layers.core.activation.Activation object at 0x794511c62f20>\n",
            "<keras.src.layers.core.activation.Activation object at 0x794511cb6980>\n",
            "<keras.src.layers.convolutional.conv2d.Conv2D object at 0x794511c46d10>\n",
            "<keras.src.layers.convolutional.conv2d.Conv2D object at 0x794511cb5f00>\n",
            "<keras.src.layers.normalization.batch_normalization.BatchNormalization object at 0x794511c2edd0>\n",
            "<keras.src.layers.normalization.batch_normalization.BatchNormalization object at 0x794511cb6200>\n",
            "<keras.src.layers.core.activation.Activation object at 0x794511c80550>\n",
            "<keras.src.layers.core.activation.Activation object at 0x794511cb7e20>\n",
            "<keras.src.layers.pooling.average_pooling2d.AveragePooling2D object at 0x794511cd2320>\n",
            "<keras.src.layers.convolutional.conv2d.Conv2D object at 0x794511c83cd0>\n",
            "<keras.src.layers.convolutional.conv2d.Conv2D object at 0x794511c81e10>\n",
            "<keras.src.layers.convolutional.conv2d.Conv2D object at 0x794511cb5f90>\n",
            "<keras.src.layers.convolutional.conv2d.Conv2D object at 0x794511cb7520>\n",
            "<keras.src.layers.normalization.batch_normalization.BatchNormalization object at 0x794511c800d0>\n",
            "<keras.src.layers.normalization.batch_normalization.BatchNormalization object at 0x794511c9ee00>\n",
            "<keras.src.layers.normalization.batch_normalization.BatchNormalization object at 0x794511cb7a00>\n",
            "<keras.src.layers.normalization.batch_normalization.BatchNormalization object at 0x794511cd36a0>\n",
            "<keras.src.layers.core.activation.Activation object at 0x794511c80520>\n",
            "<keras.src.layers.core.activation.Activation object at 0x794511c9e530>\n",
            "<keras.src.layers.core.activation.Activation object at 0x794511cb7b20>\n",
            "<keras.src.layers.core.activation.Activation object at 0x794511cd3220>\n",
            "<keras.src.layers.merging.concatenate.Concatenate object at 0x794511cd26e0>\n",
            "<keras.src.layers.convolutional.conv2d.Conv2D object at 0x794511cd3820>\n",
            "<keras.src.layers.normalization.batch_normalization.BatchNormalization object at 0x794511c44190>\n",
            "<keras.src.layers.core.activation.Activation object at 0x794511cb4070>\n",
            "<keras.src.layers.convolutional.conv2d.Conv2D object at 0x794511df3130>\n",
            "<keras.src.layers.normalization.batch_normalization.BatchNormalization object at 0x794511cfa770>\n",
            "<keras.src.layers.core.activation.Activation object at 0x794511cfa020>\n",
            "<keras.src.layers.convolutional.conv2d.Conv2D object at 0x794511cd3ee0>\n",
            "<keras.src.layers.convolutional.conv2d.Conv2D object at 0x794511cfbe20>\n",
            "<keras.src.layers.normalization.batch_normalization.BatchNormalization object at 0x794511cfa470>\n",
            "<keras.src.layers.normalization.batch_normalization.BatchNormalization object at 0x794511b1ab30>\n",
            "<keras.src.layers.core.activation.Activation object at 0x794511cf9ba0>\n",
            "<keras.src.layers.core.activation.Activation object at 0x794511c44fa0>\n",
            "<keras.src.layers.convolutional.conv2d.Conv2D object at 0x794511cfa860>\n",
            "<keras.src.layers.convolutional.conv2d.Conv2D object at 0x794511b1af50>\n",
            "<keras.src.layers.normalization.batch_normalization.BatchNormalization object at 0x794511cfb7f0>\n",
            "<keras.src.layers.normalization.batch_normalization.BatchNormalization object at 0x794511b1be20>\n",
            "<keras.src.layers.core.activation.Activation object at 0x794511cfb3d0>\n",
            "<keras.src.layers.core.activation.Activation object at 0x794511b1bbe0>\n",
            "<keras.src.layers.pooling.average_pooling2d.AveragePooling2D object at 0x794511b2a200>\n",
            "<keras.src.layers.convolutional.conv2d.Conv2D object at 0x794511df19f0>\n",
            "<keras.src.layers.convolutional.conv2d.Conv2D object at 0x794511cf99f0>\n",
            "<keras.src.layers.convolutional.conv2d.Conv2D object at 0x794511b1b820>\n",
            "<keras.src.layers.convolutional.conv2d.Conv2D object at 0x794511b29090>\n",
            "<keras.src.layers.normalization.batch_normalization.BatchNormalization object at 0x794511cd0af0>\n",
            "<keras.src.layers.normalization.batch_normalization.BatchNormalization object at 0x794511cd34c0>\n",
            "<keras.src.layers.normalization.batch_normalization.BatchNormalization object at 0x794511b1b8b0>\n",
            "<keras.src.layers.normalization.batch_normalization.BatchNormalization object at 0x794511b2b220>\n",
            "<keras.src.layers.core.activation.Activation object at 0x794511c2c760>\n",
            "<keras.src.layers.core.activation.Activation object at 0x794511cd0220>\n",
            "<keras.src.layers.core.activation.Activation object at 0x794511b18b50>\n",
            "<keras.src.layers.core.activation.Activation object at 0x794511b28430>\n",
            "<keras.src.layers.merging.concatenate.Concatenate object at 0x794511b2a8c0>\n",
            "<keras.src.layers.convolutional.conv2d.Conv2D object at 0x794511b4e4d0>\n",
            "<keras.src.layers.normalization.batch_normalization.BatchNormalization object at 0x794511b4f4f0>\n",
            "<keras.src.layers.core.activation.Activation object at 0x794511b4d4e0>\n",
            "<keras.src.layers.convolutional.conv2d.Conv2D object at 0x794511b4e890>\n",
            "<keras.src.layers.normalization.batch_normalization.BatchNormalization object at 0x794511b4fee0>\n",
            "<keras.src.layers.core.activation.Activation object at 0x794511b4f1c0>\n",
            "<keras.src.layers.convolutional.conv2d.Conv2D object at 0x794511b2b100>\n",
            "<keras.src.layers.convolutional.conv2d.Conv2D object at 0x794511b4f7c0>\n",
            "<keras.src.layers.normalization.batch_normalization.BatchNormalization object at 0x794511b2ae30>\n",
            "<keras.src.layers.normalization.batch_normalization.BatchNormalization object at 0x794511b70880>\n",
            "<keras.src.layers.core.activation.Activation object at 0x794511b1a440>\n",
            "<keras.src.layers.core.activation.Activation object at 0x794511b4fcd0>\n",
            "<keras.src.layers.convolutional.conv2d.Conv2D object at 0x794511b2bfa0>\n",
            "<keras.src.layers.convolutional.conv2d.Conv2D object at 0x794511b4fa60>\n",
            "<keras.src.layers.normalization.batch_normalization.BatchNormalization object at 0x794511b4e0e0>\n",
            "<keras.src.layers.normalization.batch_normalization.BatchNormalization object at 0x794511b4f670>\n",
            "<keras.src.layers.core.activation.Activation object at 0x794511b4c820>\n",
            "<keras.src.layers.core.activation.Activation object at 0x794511cd1960>\n",
            "<keras.src.layers.pooling.max_pooling2d.MaxPooling2D object at 0x794511b19390>\n",
            "<keras.src.layers.merging.concatenate.Concatenate object at 0x794511b2b9d0>\n",
            "<keras.src.layers.convolutional.conv2d.Conv2D object at 0x794511b92440>\n",
            "<keras.src.layers.normalization.batch_normalization.BatchNormalization object at 0x794511b90e20>\n",
            "<keras.src.layers.core.activation.Activation object at 0x794511b92ec0>\n",
            "<keras.src.layers.convolutional.conv2d.Conv2D object at 0x794511b29cc0>\n",
            "<keras.src.layers.convolutional.conv2d.Conv2D object at 0x794511b91030>\n",
            "<keras.src.layers.normalization.batch_normalization.BatchNormalization object at 0x794511b71360>\n",
            "<keras.src.layers.normalization.batch_normalization.BatchNormalization object at 0x794511b9e410>\n",
            "<keras.src.layers.core.activation.Activation object at 0x794511b72c20>\n",
            "<keras.src.layers.core.activation.Activation object at 0x794511b9db40>\n",
            "<keras.src.layers.convolutional.conv2d.Conv2D object at 0x794511b71d80>\n",
            "<keras.src.layers.convolutional.conv2d.Conv2D object at 0x794511b92320>\n",
            "<keras.src.layers.convolutional.conv2d.Conv2D object at 0x794511b9e800>\n",
            "<keras.src.layers.convolutional.conv2d.Conv2D object at 0x794511b9c6d0>\n",
            "<keras.src.layers.pooling.average_pooling2d.AveragePooling2D object at 0x794511bc20b0>\n",
            "<keras.src.layers.convolutional.conv2d.Conv2D object at 0x794511c441f0>\n",
            "<keras.src.layers.normalization.batch_normalization.BatchNormalization object at 0x794511b91f00>\n",
            "<keras.src.layers.normalization.batch_normalization.BatchNormalization object at 0x794511b932b0>\n",
            "<keras.src.layers.normalization.batch_normalization.BatchNormalization object at 0x794511b9f790>\n",
            "<keras.src.layers.normalization.batch_normalization.BatchNormalization object at 0x794511b9f190>\n",
            "<keras.src.layers.convolutional.conv2d.Conv2D object at 0x794511b9e9e0>\n",
            "<keras.src.layers.normalization.batch_normalization.BatchNormalization object at 0x794511b4e650>\n",
            "<keras.src.layers.core.activation.Activation object at 0x794511b91630>\n",
            "<keras.src.layers.core.activation.Activation object at 0x794511b92e90>\n",
            "<keras.src.layers.core.activation.Activation object at 0x794511b9f370>\n",
            "<keras.src.layers.core.activation.Activation object at 0x794511b9c700>\n",
            "<keras.src.layers.normalization.batch_normalization.BatchNormalization object at 0x794511bc1f60>\n",
            "<keras.src.layers.core.activation.Activation object at 0x794511b4dae0>\n",
            "<keras.src.layers.merging.concatenate.Concatenate object at 0x794511b926e0>\n",
            "<keras.src.layers.merging.concatenate.Concatenate object at 0x794511b9ea10>\n",
            "<keras.src.layers.core.activation.Activation object at 0x794511bc1f90>\n",
            "<keras.src.layers.merging.concatenate.Concatenate object at 0x794511bc2230>\n",
            "<keras.src.layers.convolutional.conv2d.Conv2D object at 0x794511bdab30>\n",
            "<keras.src.layers.normalization.batch_normalization.BatchNormalization object at 0x794511bdbb50>\n",
            "<keras.src.layers.core.activation.Activation object at 0x794511bdb7f0>\n",
            "<keras.src.layers.convolutional.conv2d.Conv2D object at 0x794511bc16f0>\n",
            "<keras.src.layers.convolutional.conv2d.Conv2D object at 0x794511bdabc0>\n",
            "<keras.src.layers.normalization.batch_normalization.BatchNormalization object at 0x794511bc0e80>\n",
            "<keras.src.layers.normalization.batch_normalization.BatchNormalization object at 0x794511bda140>\n",
            "<keras.src.layers.core.activation.Activation object at 0x794511b9f6a0>\n",
            "<keras.src.layers.core.activation.Activation object at 0x794511bdaad0>\n",
            "<keras.src.layers.convolutional.conv2d.Conv2D object at 0x794511bc2560>\n",
            "<keras.src.layers.convolutional.conv2d.Conv2D object at 0x794511b72f80>\n",
            "<keras.src.layers.convolutional.conv2d.Conv2D object at 0x794511bda2c0>\n",
            "<keras.src.layers.convolutional.conv2d.Conv2D object at 0x794511bed180>\n",
            "<keras.src.layers.pooling.average_pooling2d.AveragePooling2D object at 0x794511bef400>\n",
            "<keras.src.layers.convolutional.conv2d.Conv2D object at 0x794511bc3790>\n",
            "<keras.src.layers.normalization.batch_normalization.BatchNormalization object at 0x794511b73490>\n",
            "<keras.src.layers.normalization.batch_normalization.BatchNormalization object at 0x794511bc31f0>\n",
            "<keras.src.layers.normalization.batch_normalization.BatchNormalization object at 0x794511bee680>\n",
            "<keras.src.layers.normalization.batch_normalization.BatchNormalization object at 0x794511befa00>\n",
            "<keras.src.layers.convolutional.conv2d.Conv2D object at 0x794511bef580>\n",
            "<keras.src.layers.normalization.batch_normalization.BatchNormalization object at 0x794511bc2bc0>\n",
            "<keras.src.layers.core.activation.Activation object at 0x794511b938b0>\n",
            "<keras.src.layers.core.activation.Activation object at 0x794511b9f5b0>\n",
            "<keras.src.layers.core.activation.Activation object at 0x794511beddb0>\n",
            "<keras.src.layers.core.activation.Activation object at 0x794511bef5e0>\n",
            "<keras.src.layers.normalization.batch_normalization.BatchNormalization object at 0x794511bed8d0>\n",
            "<keras.src.layers.core.activation.Activation object at 0x794511b72c80>\n",
            "<keras.src.layers.merging.concatenate.Concatenate object at 0x794511b9f4f0>\n",
            "<keras.src.layers.merging.concatenate.Concatenate object at 0x794511befeb0>\n",
            "<keras.src.layers.core.activation.Activation object at 0x794511a15420>\n",
            "<keras.src.layers.merging.concatenate.Concatenate object at 0x794511a15930>\n"
          ]
        }
      ]
    },
    {
      "cell_type": "code",
      "source": [
        "len(InceptionV3.layers)"
      ],
      "metadata": {
        "colab": {
          "base_uri": "https://localhost:8080/"
        },
        "id": "v7iveuL90uqt",
        "outputId": "35f65277-d238-4a18-e231-27a1352640cf"
      },
      "execution_count": null,
      "outputs": [
        {
          "output_type": "execute_result",
          "data": {
            "text/plain": [
              "311"
            ]
          },
          "metadata": {},
          "execution_count": 108
        }
      ]
    },
    {
      "cell_type": "code",
      "source": [
        "x = Flatten()(InceptionV3.output)"
      ],
      "metadata": {
        "id": "QKq8zb3M2vl6"
      },
      "execution_count": null,
      "outputs": []
    },
    {
      "cell_type": "code",
      "source": [
        "output = Dense(4,activation = 'softmax')(x)"
      ],
      "metadata": {
        "id": "i6PGv9bI2von"
      },
      "execution_count": null,
      "outputs": []
    },
    {
      "cell_type": "code",
      "source": [
        "InceptionV3 = Model(InceptionV3.input,output)\n"
      ],
      "metadata": {
        "id": "LCMHAoQE2vqb"
      },
      "execution_count": null,
      "outputs": []
    },
    {
      "cell_type": "code",
      "source": [
        "#do remaining process"
      ],
      "metadata": {
        "id": "twCycjv72vuC"
      },
      "execution_count": null,
      "outputs": []
    },
    {
      "cell_type": "markdown",
      "source": [
        "#Xception"
      ],
      "metadata": {
        "id": "AW7Lg4ZJ00xt"
      }
    },
    {
      "cell_type": "code",
      "source": [
        "from tensorflow.keras.applications.xception import Xception\n",
        "from tensorflow.keras.layers import Dense, Flatten\n",
        "from tensorflow.keras.models import Model"
      ],
      "metadata": {
        "id": "PGcmHElr04D8"
      },
      "execution_count": null,
      "outputs": []
    },
    {
      "cell_type": "code",
      "source": [
        "xception = Xception(include_top = False,input_shape = (299,299,3))"
      ],
      "metadata": {
        "colab": {
          "base_uri": "https://localhost:8080/"
        },
        "id": "3a8FOaK-2fgE",
        "outputId": "c3b72fc3-0b61-4352-86ba-7828199cc7d7"
      },
      "execution_count": null,
      "outputs": [
        {
          "output_type": "stream",
          "name": "stdout",
          "text": [
            "Downloading data from https://storage.googleapis.com/tensorflow/keras-applications/xception/xception_weights_tf_dim_ordering_tf_kernels_notop.h5\n",
            "83683744/83683744 [==============================] - 5s 0us/step\n"
          ]
        }
      ]
    },
    {
      "cell_type": "code",
      "source": [
        "#do remaining process"
      ],
      "metadata": {
        "id": "vqn7QCOj2f58"
      },
      "execution_count": null,
      "outputs": []
    }
  ]
}